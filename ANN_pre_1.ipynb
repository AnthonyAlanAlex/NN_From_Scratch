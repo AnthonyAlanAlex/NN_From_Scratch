{
 "cells": [
  {
   "cell_type": "code",
   "execution_count": 1,
   "metadata": {},
   "outputs": [],
   "source": [
    "import numpy as np\n",
    "import math,struct,pickle\n",
    "from pathlib import Path\n",
    "import matplotlib.pyplot as plt"
   ]
  },
  {
   "cell_type": "code",
   "execution_count": 2,
   "metadata": {},
   "outputs": [],
   "source": [
    "def tanh(x):\n",
    "    return np.tanh(x)\n",
    "def softmax(x):\n",
    "    exp=np.exp(x-x.max())\n",
    "    return exp/exp.sum()"
   ]
  },
  {
   "cell_type": "code",
   "execution_count": 3,
   "metadata": {},
   "outputs": [],
   "source": [
    "dimensions=[28*28,10]\n",
    "activation=[tanh,softmax]\n",
    "distribution=[\n",
    "    {'b':[0,0]},\n",
    "    {'b':[0,0],'w':[-math.sqrt(6/(dimensions[0]+dimensions[1])),math.sqrt(6/(dimensions[0]+dimensions[1]))]},\n",
    "]"
   ]
  },
  {
   "cell_type": "code",
   "execution_count": 4,
   "metadata": {},
   "outputs": [],
   "source": [
    "def init_parameters_b(layer):\n",
    "    dist=distribution[layer]['b']\n",
    "    return np.random.rand(dimensions[layer])*(dist[1]-dist[0])+dist[0]\n",
    "def init_parameters_w(layer):\n",
    "    dist=distribution[layer]['w']\n",
    "    return np.random.rand(dimensions[layer-1],dimensions[layer])*(dist[1]-dist[0])+dist[0]\n",
    "def init_parameters():\n",
    "    parameter=[]\n",
    "    for i in range(len(distribution)):\n",
    "        layer_parameter={}\n",
    "        for j in distribution[i].keys():\n",
    "            if j=='b':\n",
    "                layer_parameter['b']=init_parameters_b(i)\n",
    "                continue\n",
    "            if j=='w':\n",
    "                layer_parameter['w']=init_parameters_w(i)\n",
    "                continue\n",
    "        parameter.append(layer_parameter)\n",
    "    return parameter"
   ]
  },
  {
   "cell_type": "code",
   "execution_count": 5,
   "metadata": {},
   "outputs": [],
   "source": [
    "parameters=init_parameters()"
   ]
  },
  {
   "cell_type": "code",
   "execution_count": 6,
   "metadata": {},
   "outputs": [],
   "source": [
    "def predict(img,parameters):\n",
    "    l0_in=img+parameters[0]['b']\n",
    "    l0_out=activation[0](l0_in)\n",
    "    l1_in=np.dot(l0_out,parameters[1]['w'])+parameters[1]['b']\n",
    "    l1_out=activation[1](l1_in)\n",
    "    return l1_out"
   ]
  },
  {
   "cell_type": "code",
   "execution_count": 7,
   "metadata": {},
   "outputs": [
    {
     "data": {
      "text/plain": [
       "0"
      ]
     },
     "execution_count": 7,
     "metadata": {},
     "output_type": "execute_result"
    }
   ],
   "source": [
    "predict(np.random.rand(784),parameters).argmax()"
   ]
  },
  {
   "cell_type": "code",
   "execution_count": 8,
   "metadata": {},
   "outputs": [],
   "source": [
    "test_img=[0.0, 0.0, 0.0, 0.0, 0.0, 0.0, 0.0, 0.0, 0.0, 0.0, 0.0, 0.0, 0.0, 0.0, 0.0, 0.0, 0.0, 0.0, 0.0, 0.0, 0.0, 0.0, 0.0, 0.0, 0.0, 0.0, 0.0, 0.0, 0.0, 0.0, 0.0, 0.0, 0.0, 0.0, 0.0, 0.0, 0.0, 0.0, 0.0, 0.0, 0.0, 0.0, 0.0, 0.0, 0.0, 0.0, 0.0, 0.0, 0.0, 0.0, 0.0, 0.0, 0.0, 0.0, 0.0, 0.0, 0.0, 0.0, 0.0, 0.0, 0.0, 0.0, 0.0, 0.0, 0.0, 0.0, 0.0, 0.0, 0.0, 0.0, 0.0, 0.0, 0.0, 0.0, 0.0, 0.0, 0.0, 0.0, 0.0, 0.0, 0.0, 0.0, 0.0, 0.0, 0.0, 0.0, 0.0, 0.0, 0.0, 0.0, 0.0, 0.0, 0.0, 0.0, 0.0, 0.0, 0.0, 0.0, 0.0, 0.0, 0.0, 0.0, 0.0, 0.0, 0.0, 0.0, 0.0, 0.0, 0.0, 0.0, 0.0, 0.0, 0.0, 0.0, 0.0, 0.0, 0.0, 0.0, 0.0, 0.0, 0.0, 0.0, 0.0, 0.0, 0.0, 0.0, 0.0, 0.0, 0.0, 0.0, 0.0, 0.0, 0.0, 0.0, 0.0, 0.0, 0.0, 0.0, 0.0, 0.0, 0.0, 0.0, 0.0, 0.0, 0.0, 0.0, 0.0, 0.0, 0.0, 0.0, 0.0, 0.0, 0.01171875, 0.0703125, 0.0703125, 0.0703125, 0.4921875, 0.53125, 0.68359375, 0.1015625, 0.6484375, 0.99609375, 0.96484375, 0.49609375, 0.0, 0.0, 0.0, 0.0, 0.0, 0.0, 0.0, 0.0, 0.0, 0.0, 0.0, 0.0, 0.1171875, 0.140625, 0.3671875, 0.6015625, 0.6640625, 0.98828125, 0.98828125, 0.98828125, 0.98828125, 0.98828125, 0.87890625, 0.671875, 0.98828125, 0.9453125, 0.76171875, 0.25, 0.0, 0.0, 0.0, 0.0, 0.0, 0.0, 0.0, 0.0, 0.0, 0.0, 0.0, 0.19140625, 0.9296875, 0.98828125, 0.98828125, 0.98828125, 0.98828125, 0.98828125, 0.98828125, 0.98828125, 0.98828125, 0.98046875, 0.36328125, 0.3203125, 0.3203125, 0.21875, 0.15234375, 0.0, 0.0, 0.0, 0.0, 0.0, 0.0, 0.0, 0.0, 0.0, 0.0, 0.0, 0.0, 0.0703125, 0.85546875, 0.98828125, 0.98828125, 0.98828125, 0.98828125, 0.98828125, 0.7734375, 0.7109375, 0.96484375, 0.94140625, 0.0, 0.0, 0.0, 0.0, 0.0, 0.0, 0.0, 0.0, 0.0, 0.0, 0.0, 0.0, 0.0, 0.0, 0.0, 0.0, 0.0, 0.0, 0.3125, 0.609375, 0.41796875, 0.98828125, 0.98828125, 0.80078125, 0.04296875, 0.0, 0.16796875, 0.6015625, 0.0, 0.0, 0.0, 0.0, 0.0, 0.0, 0.0, 0.0, 0.0, 0.0, 0.0, 0.0, 0.0, 0.0, 0.0, 0.0, 0.0, 0.0, 0.0, 0.0546875, 0.00390625, 0.6015625, 0.98828125, 0.3515625, 0.0, 0.0, 0.0, 0.0, 0.0, 0.0, 0.0, 0.0, 0.0, 0.0, 0.0, 0.0, 0.0, 0.0, 0.0, 0.0, 0.0, 0.0, 0.0, 0.0, 0.0, 0.0, 0.0, 0.0, 0.0, 0.54296875, 0.98828125, 0.7421875, 0.0078125, 0.0, 0.0, 0.0, 0.0, 0.0, 0.0, 0.0, 0.0, 0.0, 0.0, 0.0, 0.0, 0.0, 0.0, 0.0, 0.0, 0.0, 0.0, 0.0, 0.0, 0.0, 0.0, 0.0, 0.0, 0.04296875, 0.7421875, 0.98828125, 0.2734375, 0.0, 0.0, 0.0, 0.0, 0.0, 0.0, 0.0, 0.0, 0.0, 0.0, 0.0, 0.0, 0.0, 0.0, 0.0, 0.0, 0.0, 0.0, 0.0, 0.0, 0.0, 0.0, 0.0, 0.0, 0.0, 0.13671875, 0.94140625, 0.87890625, 0.625, 0.421875, 0.00390625, 0.0, 0.0, 0.0, 0.0, 0.0, 0.0, 0.0, 0.0, 0.0, 0.0, 0.0, 0.0, 0.0, 0.0, 0.0, 0.0, 0.0, 0.0, 0.0, 0.0, 0.0, 0.0, 0.0, 0.31640625, 0.9375, 0.98828125, 0.98828125, 0.46484375, 0.09765625, 0.0, 0.0, 0.0, 0.0, 0.0, 0.0, 0.0, 0.0, 0.0, 0.0, 0.0, 0.0, 0.0, 0.0, 0.0, 0.0, 0.0, 0.0, 0.0, 0.0, 0.0, 0.0, 0.0, 0.17578125, 0.7265625, 0.98828125, 0.98828125, 0.5859375, 0.10546875, 0.0, 0.0, 0.0, 0.0, 0.0, 0.0, 0.0, 0.0, 0.0, 0.0, 0.0, 0.0, 0.0, 0.0, 0.0, 0.0, 0.0, 0.0, 0.0, 0.0, 0.0, 0.0, 0.0, 0.0625, 0.36328125, 0.984375, 0.98828125, 0.73046875, 0.0, 0.0, 0.0, 0.0, 0.0, 0.0, 0.0, 0.0, 0.0, 0.0, 0.0, 0.0, 0.0, 0.0, 0.0, 0.0, 0.0, 0.0, 0.0, 0.0, 0.0, 0.0, 0.0, 0.0, 0.0, 0.97265625, 0.98828125, 0.97265625, 0.25, 0.0, 0.0, 0.0, 0.0, 0.0, 0.0, 0.0, 0.0, 0.0, 0.0, 0.0, 0.0, 0.0, 0.0, 0.0, 0.0, 0.0, 0.0, 0.0, 0.0, 0.0, 0.1796875, 0.5078125, 0.71484375, 0.98828125, 0.98828125, 0.80859375, 0.0078125, 0.0, 0.0, 0.0, 0.0, 0.0, 0.0, 0.0, 0.0, 0.0, 0.0, 0.0, 0.0, 0.0, 0.0, 0.0, 0.0, 0.0, 0.0, 0.0, 0.15234375, 0.578125, 0.89453125, 0.98828125, 0.98828125, 0.98828125, 0.9765625, 0.7109375, 0.0, 0.0, 0.0, 0.0, 0.0, 0.0, 0.0, 0.0, 0.0, 0.0, 0.0, 0.0, 0.0, 0.0, 0.0, 0.0, 0.0, 0.0, 0.09375, 0.4453125, 0.86328125, 0.98828125, 0.98828125, 0.98828125, 0.98828125, 0.78515625, 0.3046875, 0.0, 0.0, 0.0, 0.0, 0.0, 0.0, 0.0, 0.0, 0.0, 0.0, 0.0, 0.0, 0.0, 0.0, 0.0, 0.0, 0.0, 0.08984375, 0.2578125, 0.83203125, 0.98828125, 0.98828125, 0.98828125, 0.98828125, 0.7734375, 0.31640625, 0.0078125, 0.0, 0.0, 0.0, 0.0, 0.0, 0.0, 0.0, 0.0, 0.0, 0.0, 0.0, 0.0, 0.0, 0.0, 0.0, 0.0, 0.0703125, 0.66796875, 0.85546875, 0.98828125, 0.98828125, 0.98828125, 0.98828125, 0.76171875, 0.3125, 0.03515625, 0.0, 0.0, 0.0, 0.0, 0.0, 0.0, 0.0, 0.0, 0.0, 0.0, 0.0, 0.0, 0.0, 0.0, 0.0, 0.0, 0.21484375, 0.671875, 0.8828125, 0.98828125, 0.98828125, 0.98828125, 0.98828125, 0.953125, 0.51953125, 0.04296875, 0.0, 0.0, 0.0, 0.0, 0.0, 0.0, 0.0, 0.0, 0.0, 0.0, 0.0, 0.0, 0.0, 0.0, 0.0, 0.0, 0.0, 0.0, 0.53125, 0.98828125, 0.98828125, 0.98828125, 0.828125, 0.52734375, 0.515625, 0.0625, 0.0, 0.0, 0.0, 0.0, 0.0, 0.0, 0.0, 0.0, 0.0, 0.0, 0.0, 0.0, 0.0, 0.0, 0.0, 0.0, 0.0, 0.0, 0.0, 0.0, 0.0, 0.0, 0.0, 0.0, 0.0, 0.0, 0.0, 0.0, 0.0, 0.0, 0.0, 0.0, 0.0, 0.0, 0.0, 0.0, 0.0, 0.0, 0.0, 0.0, 0.0, 0.0, 0.0, 0.0, 0.0, 0.0, 0.0, 0.0, 0.0, 0.0, 0.0, 0.0, 0.0, 0.0, 0.0, 0.0, 0.0, 0.0, 0.0, 0.0, 0.0, 0.0, 0.0, 0.0, 0.0, 0.0, 0.0, 0.0, 0.0, 0.0, 0.0, 0.0, 0.0, 0.0, 0.0, 0.0, 0.0, 0.0, 0.0, 0.0, 0.0, 0.0, 0.0, 0.0, 0.0, 0.0, 0.0, 0.0, 0.0, 0.0, 0.0, 0.0, 0.0, 0.0, 0.0, 0.0, 0.0, 0.0, 0.0, 0.0]"
   ]
  },
  {
   "cell_type": "code",
   "execution_count": 9,
   "metadata": {
    "scrolled": true
   },
   "outputs": [
    {
     "data": {
      "text/plain": [
       "<matplotlib.image.AxesImage at 0x28f427809b0>"
      ]
     },
     "execution_count": 9,
     "metadata": {},
     "output_type": "execute_result"
    },
    {
     "data": {
      "image/png": "[encoded data removed]",
      "text/plain": [
       "<Figure size 432x288 with 1 Axes>"
      ]
     },
     "metadata": {},
     "output_type": "display_data"
    }
   ],
   "source": [
    "import matplotlib.pyplot as plt\n",
    "im = np.reshape(test_img,(28,28))\n",
    "plt.imshow(im , cmap='gray')"
   ]
  },
  {
   "cell_type": "code",
   "execution_count": 10,
   "metadata": {},
   "outputs": [],
   "source": [
    "path='model_02.pkl'\n",
    "with open(path,'rb') as f:\n",
    "    parameters=pickle.load(f)"
   ]
  },
  {
   "cell_type": "code",
   "execution_count": 11,
   "metadata": {},
   "outputs": [
    {
     "data": {
      "text/plain": [
       "5"
      ]
     },
     "execution_count": 11,
     "metadata": {},
     "output_type": "execute_result"
    }
   ],
   "source": [
    "predict(np.array(test_img),parameters).argmax()"
   ]
  },
  {
   "cell_type": "code",
   "execution_count": 12,
   "metadata": {},
   "outputs": [
    {
     "data": {
      "text/plain": [
       "[{'b': array([-1.22268644e-02, -1.69337185e-02, -1.55384097e-02, -3.15686490e-02,\n",
       "          1.10621898e-02,  5.53598326e-03, -6.35943805e-03, -5.84399455e-03,\n",
       "          8.42867360e-03,  5.93783115e-03, -1.56796413e-02, -5.56046295e-03,\n",
       "         -1.58257714e-02, -2.08147441e-02,  4.14084064e-03, -3.30956987e-03,\n",
       "         -1.44388093e-02, -1.70634684e-02,  1.99394249e-04, -8.62252737e-03,\n",
       "          2.74250602e-02, -1.00596961e-02, -3.61814817e-03,  2.21515384e-03,\n",
       "          1.08541903e-02,  1.01123336e-02, -6.22160272e-03,  2.33535257e-02,\n",
       "         -1.44424552e-02,  6.65463041e-03, -1.68420346e-02,  7.61633816e-04,\n",
       "          4.15787745e-03,  5.26976593e-02,  1.05732735e-02, -7.68558429e-03,\n",
       "         -3.49612494e-02,  5.01457301e-02, -2.15991903e-02,  2.41617243e-02,\n",
       "          9.82514398e-03, -1.22803316e-03,  2.24658303e-02, -1.66578564e-02,\n",
       "          1.14147401e-02, -2.75883366e-02,  1.08087783e-02,  2.57514564e-02,\n",
       "         -2.37001587e-03,  4.03441970e-02, -1.53690019e-02,  3.20923099e-02,\n",
       "         -1.53115285e-02,  1.80925914e-02,  1.47231549e-02,  7.50672206e-03,\n",
       "         -3.17228159e-02,  8.83694087e-03, -3.60282717e-02, -3.47996845e-02,\n",
       "          2.84934299e-02,  1.10098105e-02, -9.80658948e-03, -9.13058644e-03,\n",
       "         -1.08974956e-02,  1.17240803e-02, -8.01785662e-03,  2.57139097e-02,\n",
       "         -4.78369556e-02, -3.31494929e-02, -2.04158147e-03, -4.47920292e-02,\n",
       "         -2.87328217e-02,  1.75568763e-02, -8.00177244e-03, -2.11882832e-02,\n",
       "          2.38258624e-02, -2.01836592e-02,  1.33275166e-02,  2.49533179e-02,\n",
       "         -3.46555390e-02,  1.01372354e-02, -1.80305171e-02, -2.21948497e-03,\n",
       "          4.15862033e-03,  1.92581323e-02, -8.21417572e-03,  2.01718593e-02,\n",
       "         -1.54302325e-02, -2.27069047e-02, -2.15096940e-02, -2.42818986e-02,\n",
       "          2.69154957e-02, -7.99277088e-02, -1.10801423e-01, -8.67917718e-02,\n",
       "         -1.44727466e-01, -2.19170437e-01, -1.29590089e-01, -4.01536356e-02,\n",
       "         -9.47115623e-02, -2.61724631e-02,  2.45285868e-03,  3.48997261e-04,\n",
       "         -7.05706853e-04, -6.05218585e-03, -1.52986847e-02, -1.41163693e-02,\n",
       "          7.29833814e-03,  9.53646405e-04,  5.26814554e-03,  1.02208958e-02,\n",
       "         -5.79355099e-03,  8.09656341e-04,  1.84189471e-03,  2.48031139e-02,\n",
       "          1.72354463e-02, -4.75629015e-02, -7.58360266e-03, -7.01669044e-02,\n",
       "         -1.37665737e-01, -1.71161779e-01, -1.87889514e-01, -1.26953024e-01,\n",
       "         -1.61781093e-01, -2.43987400e-01, -1.54979842e-01, -2.11324446e-01,\n",
       "         -1.12310103e-01, -6.53433340e-02, -6.95706783e-02, -2.26893529e-02,\n",
       "          4.23122214e-03, -4.11015105e-02, -1.57484630e-01, -7.81927202e-02,\n",
       "          1.73304268e-02, -6.04166177e-03,  5.50195821e-03, -7.99048974e-03,\n",
       "          2.32094882e-03,  7.87762776e-03,  5.02679513e-03,  7.11787081e-04,\n",
       "         -3.44040664e-02, -7.52547708e-02, -8.38658104e-02, -9.45158733e-02,\n",
       "         -7.41882382e-02, -3.03271675e-02, -1.03862434e-01, -1.77992423e-01,\n",
       "         -1.10451811e-01, -1.48097800e-01, -1.10971227e-01, -2.12041553e-01,\n",
       "         -1.84888105e-01, -1.87777288e-01, -1.68363779e-01, -1.34908918e-01,\n",
       "         -7.51270295e-02, -3.89287026e-02, -1.76490476e-01, -1.56022348e-01,\n",
       "         -2.05405825e-02,  1.35411699e-02,  1.38939821e-02,  1.10939091e-03,\n",
       "          1.42206066e-02, -3.57383712e-03,  4.12501090e-03, -1.20023732e-02,\n",
       "         -6.75636411e-02, -1.27330046e-01, -1.40162019e-01, -8.53870166e-02,\n",
       "         -6.67225414e-02, -1.85106726e-02, -6.35079466e-02, -9.49834064e-02,\n",
       "         -1.76343638e-02, -2.01113168e-01, -3.15217475e-01,  6.30042821e-02,\n",
       "         -2.12457267e-01, -1.14423871e-01, -2.43303572e-01, -5.73313824e-02,\n",
       "         -8.54364037e-02, -1.37387247e-02, -8.23364657e-02, -1.46469122e-01,\n",
       "         -7.81592843e-02, -7.68741145e-03,  9.35315954e-03,  2.39751398e-02,\n",
       "         -2.37456053e-02,  8.49326210e-03,  3.18910276e-02, -4.12502010e-02,\n",
       "         -1.53702396e-01, -1.44118530e-01, -1.71657678e-01, -9.93919216e-02,\n",
       "         -1.21161216e-01, -1.15974646e-01, -1.58447015e-01, -2.51065905e-01,\n",
       "         -3.67033182e-01,  3.48047961e-02,  2.19305063e-02,  9.88726025e-02,\n",
       "          3.76474339e-02, -2.07093232e-01, -1.21655644e-01, -2.12563969e-01,\n",
       "         -1.53544877e-01, -6.75341526e-02, -3.91669960e-02, -1.20411979e-01,\n",
       "         -1.07524604e-01, -3.49188415e-02,  3.08096345e-02,  2.82244099e-02,\n",
       "          1.87227719e-03,  2.52176686e-02, -8.34886287e-03, -1.41428168e-02,\n",
       "         -1.94960993e-01, -1.86037326e-01, -8.31963458e-02, -1.04662629e-01,\n",
       "         -1.09771569e-01, -3.44537295e-02, -1.03130754e-01, -2.42546529e-01,\n",
       "         -1.48160153e-01,  3.49570490e-02, -1.86860092e-01, -1.92438264e-01,\n",
       "         -9.16941285e-02, -2.45343232e-01, -2.57197736e-01, -2.69781473e-01,\n",
       "         -2.08707431e-01, -1.53521118e-01, -1.23259644e-01, -2.49639138e-01,\n",
       "         -1.84321796e-01, -8.98204944e-02, -3.94065921e-03,  3.04305510e-03,\n",
       "         -2.43202149e-02, -1.31083123e-02,  8.43330005e-03, -5.53174560e-02,\n",
       "         -1.72953254e-01, -1.13506313e-01, -2.36906402e-02, -2.35699544e-03,\n",
       "         -1.44486621e-02,  1.21344558e-02, -1.82424161e-03, -8.88149482e-02,\n",
       "         -2.40158723e-01, -2.35905352e-01, -6.69450500e-01, -5.80441678e-01,\n",
       "         -3.29341355e-01, -2.83979047e-01, -3.21949215e-01, -2.54472500e-01,\n",
       "         -1.22814353e-01, -1.44139806e-01, -9.13440710e-02, -2.16099359e-01,\n",
       "         -2.44268199e-01, -1.25016315e-01,  8.48517665e-03, -2.73813382e-02,\n",
       "         -1.07794779e-04,  1.72252967e-02, -7.90939972e-03, -6.22181876e-02,\n",
       "         -6.88823266e-02, -3.27178185e-02,  1.20520758e-02,  1.84578168e-02,\n",
       "         -6.69921849e-02, -1.90574288e-01, -2.94906496e-01, -2.23125668e-01,\n",
       "         -2.38136695e-01, -2.83676914e-01, -6.68635165e-01, -8.40915666e-01,\n",
       "         -6.73818637e-01, -3.04597926e-01, -1.26694134e-01, -2.73171774e-01,\n",
       "         -1.16843081e-01, -9.72890703e-02, -1.27224229e-01, -2.23067406e-01,\n",
       "         -3.26543964e-01, -2.77547728e-01, -9.12095896e-03,  1.05457407e-02,\n",
       "         -1.48237868e-02,  2.16070092e-03, -1.50465160e-02, -6.35368522e-02,\n",
       "         -2.27514134e-02, -7.05256820e-02, -1.00132914e-01, -2.79171211e-01,\n",
       "         -5.13122336e-01, -3.75722223e-01, -1.76302782e-01, -8.86932436e-02,\n",
       "         -1.99840458e-02, -3.12939523e-01, -5.49250145e-01, -5.97428793e-01,\n",
       "         -6.49224806e-01, -4.44085725e-01, -3.51878717e-01, -2.92710754e-01,\n",
       "         -4.59664431e-01, -3.87971310e-01, -2.57723639e-01, -1.38318566e-01,\n",
       "         -1.50609898e-01, -6.17016832e-02, -9.86031994e-03,  3.42224621e-02,\n",
       "          1.66658133e-03, -3.30453976e-02, -6.17895479e-03, -1.96754107e-02,\n",
       "         -4.23051918e-02, -2.20929662e-01, -4.02760300e-01, -4.29542902e-01,\n",
       "         -4.43720871e-01, -2.73026843e-01, -3.69963030e-01, -3.86620114e-01,\n",
       "         -4.75481437e-01, -2.92541277e-01, -5.41063133e-01, -5.09610624e-01,\n",
       "         -4.28605013e-01, -4.10597401e-01, -1.92457011e-01, -1.12285501e-01,\n",
       "         -1.89432486e-01, -2.63282181e-01, -4.12577244e-01, -3.66085363e-01,\n",
       "         -2.91663524e-01, -6.66641015e-02,  1.63004284e-03, -2.31795893e-03,\n",
       "         -2.78637823e-02, -2.25536029e-02,  5.29765783e-03, -1.55219067e-02,\n",
       "         -8.50665814e-02, -2.71426598e-01, -4.25355031e-01, -4.40105315e-01,\n",
       "         -3.12702732e-01, -2.13580132e-01, -1.67508630e-01, -4.69596534e-01,\n",
       "         -3.75420006e-01, -3.37845414e-01, -3.21085010e-01, -3.89578599e-01,\n",
       "         -2.20229909e-01, -3.18552947e-01, -2.27103277e-01, -2.20452398e-01,\n",
       "         -2.17558625e-01, -1.85352923e-01, -9.86300748e-02, -3.39664130e-01,\n",
       "         -2.52259243e-01, -3.49533823e-02, -2.41803306e-02, -1.12562604e-02,\n",
       "         -1.36240722e-02,  2.68177648e-02,  1.31959603e-02,  3.01506126e-02,\n",
       "         -6.56231213e-02, -2.17469497e-01, -2.98380271e-01, -2.29906969e-01,\n",
       "         -2.69818482e-01, -2.54428980e-01, -2.97020988e-01, -2.37130173e-01,\n",
       "         -2.87150279e-01, -7.69185834e-02, -1.92331814e-01, -9.42780710e-02,\n",
       "         -2.78675158e-01, -2.80364741e-01, -1.87055879e-01, -1.92364548e-01,\n",
       "         -2.32137059e-01, -1.08292845e-01, -1.20692706e-01, -1.96658899e-01,\n",
       "         -1.04086018e-01, -1.98079857e-02, -7.80007316e-03, -5.13595795e-03,\n",
       "          8.36515841e-03, -9.54429244e-03,  3.90468971e-02, -4.50447137e-02,\n",
       "         -4.58927896e-02, -2.29042577e-01, -2.44104772e-01, -2.61095878e-01,\n",
       "         -3.27711808e-01, -2.25661372e-01, -1.61788898e-01, -2.97462923e-01,\n",
       "         -1.31632813e-01, -2.21145464e-01, -3.73007230e-01, -2.69581221e-01,\n",
       "         -2.79297402e-01, -3.19309241e-01, -2.16301890e-01, -1.83451042e-01,\n",
       "         -1.84772612e-01, -1.64635829e-01, -1.83568509e-01, -1.77195628e-01,\n",
       "         -1.06770492e-01, -1.08576558e-01, -5.23872379e-02, -2.91378343e-02,\n",
       "          5.92598226e-03,  8.11879687e-03, -1.40053514e-02, -5.59475634e-03,\n",
       "         -1.05735168e-01, -2.00900618e-01, -3.39018851e-01, -3.29749977e-01,\n",
       "         -4.38490876e-01, -2.99599899e-01, -1.75965683e-01, -8.95142373e-02,\n",
       "          3.89158929e-02, -3.39129992e-01, -4.73877445e-01, -2.41716875e-01,\n",
       "         -2.13476300e-01, -3.94031562e-01, -2.70555064e-01, -1.87622565e-01,\n",
       "         -1.98081001e-01, -2.82577340e-01, -2.15859303e-01, -1.23251724e-01,\n",
       "         -1.69374237e-01, -1.55065743e-01, -5.03200933e-02,  3.21914799e-02,\n",
       "          1.09210532e-02, -2.07722793e-02,  1.27766606e-02, -6.15728590e-02,\n",
       "         -1.66441957e-01, -2.25421198e-01, -2.33192807e-01, -2.98226284e-01,\n",
       "         -5.21575560e-01, -5.71481427e-01, -4.32793359e-01, -2.67803953e-01,\n",
       "         -2.17069597e-01, -4.93463612e-01, -4.84429823e-01, -2.57379064e-01,\n",
       "         -1.49082698e-01, -2.41954766e-01, -2.13170518e-01, -1.39979312e-01,\n",
       "         -1.42071975e-01, -6.92747000e-02, -1.62633985e-01, -7.51408490e-02,\n",
       "         -1.07118281e-01, -1.00746271e-01, -2.25087079e-02, -1.35342794e-02,\n",
       "         -3.63728147e-03,  1.95986245e-02,  2.45602032e-02, -5.28443142e-02,\n",
       "         -2.04052887e-01, -2.96661332e-01, -1.67588652e-01, -2.08367068e-01,\n",
       "         -1.87013984e-01, -1.80277025e-01, -4.55763215e-01, -1.51330492e-01,\n",
       "         -5.33445341e-01, -4.26931718e-01, -3.68864924e-01, -8.47182818e-02,\n",
       "         -2.88196737e-01, -2.07865287e-01, -1.45185672e-01, -7.01546305e-02,\n",
       "         -1.16709495e-02, -2.08378927e-01, -1.95098045e-01, -2.09146246e-01,\n",
       "         -2.63609428e-01, -9.28347033e-02, -1.37160510e-02, -4.36503355e-03,\n",
       "         -2.87629533e-02,  7.49413668e-03,  5.67512376e-03, -9.02641914e-02,\n",
       "         -1.20289024e-01, -1.42797407e-01, -1.06463881e-01, -1.56660915e-01,\n",
       "         -2.47968376e-01, -2.85034555e-01, -1.73900650e-01, -2.94735360e-01,\n",
       "         -1.41531259e-01, -2.73910033e-01, -3.39727978e-01, -8.03252051e-02,\n",
       "         -1.02089255e-01, -1.62019369e-01, -8.09343889e-02, -9.01358305e-02,\n",
       "         -8.99351307e-02, -2.15086118e-01, -1.38735207e-01, -7.58265342e-02,\n",
       "         -8.68047172e-02, -7.34877618e-02, -2.01200149e-02, -1.36053060e-02,\n",
       "          7.91710076e-03,  1.39837430e-02,  1.64057822e-02, -3.64241052e-02,\n",
       "         -1.84386574e-01, -1.06917864e-01, -2.59905349e-01, -2.17530512e-01,\n",
       "         -1.87078879e-01, -2.34035386e-01, -2.77515774e-01, -4.04869531e-01,\n",
       "         -2.13300556e-01, -2.24947395e-01, -3.15840061e-01, -7.70943371e-02,\n",
       "         -2.67802739e-01, -1.47284654e-01, -1.51310282e-01, -8.14579388e-02,\n",
       "         -1.24634212e-01, -8.16140113e-02, -1.20413244e-01, -4.60831703e-02,\n",
       "         -6.23793094e-02, -1.53225855e-02,  6.98508579e-03,  1.78891673e-03,\n",
       "          1.37863638e-03,  2.93005843e-04, -1.77360794e-02, -1.90664121e-02,\n",
       "         -1.39989187e-01, -1.62313160e-01, -1.61060677e-01, -1.08275769e-01,\n",
       "         -1.24983336e-01, -1.18766417e-01, -2.35212614e-01, -3.20493880e-01,\n",
       "         -2.32436684e-01, -5.62999583e-02, -2.12606050e-01, -1.38022994e-01,\n",
       "         -1.72298216e-01, -9.95642190e-02, -1.70824165e-01, -1.09902532e-01,\n",
       "         -3.43779240e-02, -1.13899672e-01, -8.53724494e-02, -5.59262223e-02,\n",
       "         -3.92097790e-02, -5.95219650e-03,  4.20466374e-03,  6.51565618e-03,\n",
       "          1.45827662e-02, -2.48913214e-03,  1.16688625e-02, -2.78870153e-03,\n",
       "         -1.11414901e-01, -1.92004399e-01, -1.57487879e-01, -1.08451270e-01,\n",
       "         -1.32432937e-01, -1.82714334e-01, -2.04570023e-01, -1.01889571e-01,\n",
       "         -6.91079766e-02, -1.08182834e-03, -2.78767952e-02, -7.99285637e-02,\n",
       "         -1.69668998e-01, -1.79870083e-01, -2.14096211e-01, -1.79845293e-01,\n",
       "         -1.48217354e-01, -7.60177288e-02, -1.25912866e-01, -1.06655130e-01,\n",
       "         -4.07573900e-02, -9.95440237e-03, -1.85522735e-02, -4.83758212e-04,\n",
       "         -1.87080311e-02, -3.70287818e-03, -2.11299896e-02, -2.98011852e-02,\n",
       "         -4.76841504e-02, -1.82013833e-01, -2.61216575e-01, -1.55968177e-01,\n",
       "         -9.65055018e-02, -1.78451289e-01, -1.38053023e-01, -1.04428226e-01,\n",
       "          4.99404977e-02,  2.40630765e-01,  1.67018544e-02,  5.91195007e-02,\n",
       "         -9.49863341e-02, -1.42102279e-01, -1.80285759e-01, -1.64555397e-01,\n",
       "         -1.68261535e-01, -1.22376557e-01, -1.12365832e-01, -2.28170170e-02,\n",
       "         -2.79019121e-02,  5.94000775e-03, -1.83717799e-02, -7.57018522e-03,\n",
       "         -1.45564382e-02, -4.49766609e-05, -5.56187825e-03,  2.38635404e-03,\n",
       "         -5.74899444e-02, -1.49673253e-01, -2.09541284e-01, -1.85923994e-01,\n",
       "         -7.36931260e-02, -5.50624929e-02, -1.00670539e-01, -8.23911576e-02,\n",
       "         -8.59719177e-02, -1.35583152e-01, -1.23570162e-01, -8.60931599e-02,\n",
       "         -5.67039592e-02,  7.09535631e-03, -5.51935634e-02, -1.23500747e-01,\n",
       "         -1.11114073e-01, -2.62364511e-02, -2.07041015e-02, -2.66246219e-02,\n",
       "         -4.75992166e-03,  8.42124269e-03,  1.85347985e-02, -3.72606050e-02,\n",
       "         -2.05333030e-02,  9.78144822e-03,  1.37291744e-02, -6.07043370e-03,\n",
       "         -3.28211260e-02, -5.06378093e-02, -4.01424519e-02, -1.38809479e-01,\n",
       "         -1.23208786e-01, -1.16435591e-01, -1.53569009e-01, -1.85469943e-01,\n",
       "         -1.17631694e-01, -7.44899192e-02, -6.48336179e-02, -7.19160225e-02,\n",
       "         -9.24632794e-02, -4.91341506e-02, -8.48304743e-02, -5.93439775e-02,\n",
       "         -8.62027210e-02, -3.67767418e-02, -3.21588718e-03, -1.20862829e-02,\n",
       "          6.58541398e-03, -7.12433284e-03,  4.98478134e-03, -1.46439224e-02,\n",
       "         -1.86283844e-02, -2.96034680e-03,  4.81032989e-03,  4.37350114e-03,\n",
       "         -6.02080072e-03, -2.74059884e-02,  6.84022071e-03, -4.75969929e-02,\n",
       "         -3.06459505e-02, -6.06866755e-02, -8.51643953e-02, -9.67014895e-02,\n",
       "         -8.27342087e-02, -9.89252974e-02, -1.84632945e-01, -9.83921718e-02,\n",
       "         -9.44570577e-02, -7.83795556e-02, -6.48276731e-02, -3.19482712e-02,\n",
       "         -3.26097261e-02,  1.20533521e-02,  2.13054216e-02,  3.83909066e-03,\n",
       "         -3.17931422e-02, -3.93746571e-03, -3.11557256e-02, -2.92565563e-02,\n",
       "          1.74182616e-02, -9.29867681e-03, -7.26465547e-04,  4.03957913e-02,\n",
       "          3.92190945e-02,  3.44294697e-03, -7.78731639e-03, -5.15889658e-03,\n",
       "         -4.40789673e-03, -9.34247013e-04, -1.32463128e-02, -2.06281348e-02,\n",
       "         -3.47260929e-02,  7.94829280e-03, -8.51018995e-03,  2.11435687e-02,\n",
       "         -2.34050780e-02, -1.39743571e-04, -1.39631449e-02, -1.60058933e-02,\n",
       "         -1.00456277e-02, -2.14583523e-02, -7.43237077e-03, -3.85340322e-03,\n",
       "         -4.90339799e-03, -2.50748895e-02,  2.88008228e-02, -2.20376321e-03])},\n",
       " {'w': array([[-0.05954934,  0.03032614, -0.00032207, ...,  0.06142349,\n",
       "          -0.04571915,  0.06348648],\n",
       "         [ 0.07681583,  0.00797561, -0.00266409, ...,  0.02930079,\n",
       "           0.03400993,  0.04864621],\n",
       "         [ 0.00330505,  0.01478545,  0.08203109, ..., -0.01547735,\n",
       "          -0.03037345, -0.02761256],\n",
       "         ...,\n",
       "         [ 0.06173073,  0.06865266,  0.07350748, ...,  0.03291034,\n",
       "          -0.04128883,  0.07230146],\n",
       "         [-0.0475267 , -0.01876552,  0.027709  , ..., -0.03261928,\n",
       "          -0.00434977, -0.08390339],\n",
       "         [-0.00782083,  0.05744823,  0.05240999, ...,  0.00289999,\n",
       "          -0.04355425, -0.00459715]]),\n",
       "  'b': array([-0.258677  , -0.08531378, -0.09109682, -0.03821053, -0.02365061,\n",
       "          0.36632011,  0.06790924,  0.01340604,  0.0680387 , -0.01872535])},\n",
       " {}]"
      ]
     },
     "execution_count": 12,
     "metadata": {},
     "output_type": "execute_result"
    }
   ],
   "source": [
    "parameters"
   ]
  },
  {
   "cell_type": "code",
   "execution_count": 13,
   "metadata": {},
   "outputs": [],
   "source": [
    "dataset_path=Path('./MNIST')\n",
    "train_img_path=dataset_path/'train-images.idx3-ubyte'\n",
    "train_lab_path=dataset_path/'train-labels.idx1-ubyte'\n",
    "test_img_path=dataset_path/'t10k-images.idx3-ubyte'\n",
    "test_lab_path=dataset_path/'t10k-labels.idx1-ubyte'"
   ]
  },
  {
   "cell_type": "code",
   "execution_count": 14,
   "metadata": {},
   "outputs": [],
   "source": [
    "train_num=50000\n",
    "valid_num=10000\n",
    "test_num=10000\n",
    "\n",
    "with open(train_img_path,'rb') as f:\n",
    "    struct.unpack('>4i',f.read(16))\n",
    "    tmp_img=np.fromfile(f,dtype=np.uint8).reshape(-1,28*28)\n",
    "    train_img=tmp_img[:train_num]\n",
    "    valid_img=tmp_img[train_num:]\n",
    "    \n",
    "with open(test_img_path,'rb') as f:\n",
    "    struct.unpack('>4i',f.read(16))\n",
    "    test_img=np.fromfile(f,dtype=np.uint8).reshape(-1,28*28)\n",
    "\n",
    "with open(train_lab_path,'rb') as f:\n",
    "    struct.unpack('>2i',f.read(8))\n",
    "    tmp_lab=np.fromfile(f,dtype=np.uint8)\n",
    "    train_lab=tmp_lab[:train_num]\n",
    "    valid_lab=tmp_lab[train_num:]\n",
    "    \n",
    "with open(test_lab_path,'rb') as f:\n",
    "    struct.unpack('>2i',f.read(8))\n",
    "    test_lab=np.fromfile(f,dtype=np.uint8)"
   ]
  },
  {
   "cell_type": "code",
   "execution_count": 15,
   "metadata": {},
   "outputs": [],
   "source": [
    "def show_train(index):\n",
    "    plt.imshow(train_img[index].reshape(28,28),cmap='gray')\n",
    "    print('label : {}'.format(train_lab[index]))\n",
    "def show_valid(index):\n",
    "    plt.imshow(valid_img[index].reshape(28,28),cmap='gray')\n",
    "    print('label : {}'.format(valid_lab[index]))\n",
    "def show_test(index):\n",
    "    plt.imshow(test_img[index].reshape(28,28),cmap='gray')\n",
    "    print('label : {}'.format(test_lab[index]))"
   ]
  },
  {
   "cell_type": "code",
   "execution_count": 16,
   "metadata": {
    "scrolled": false
   },
   "outputs": [
    {
     "name": "stdout",
     "output_type": "stream",
     "text": [
      "label : 9\n"
     ]
    },
    {
     "data": {
      "image/png": "[encoded data removed]",
      "text/plain": [
       "<Figure size 432x288 with 1 Axes>"
      ]
     },
     "metadata": {},
     "output_type": "display_data"
    }
   ],
   "source": [
    "show_train(np.random.randint(train_num))"
   ]
  },
  {
   "cell_type": "code",
   "execution_count": 17,
   "metadata": {},
   "outputs": [
    {
     "name": "stdout",
     "output_type": "stream",
     "text": [
      "label : 8\n"
     ]
    },
    {
     "data": {
      "image/png": "[encoded data removed]",
      "text/plain": [
       "<Figure size 432x288 with 1 Axes>"
      ]
     },
     "metadata": {},
     "output_type": "display_data"
    }
   ],
   "source": [
    "show_valid(np.random.randint(valid_num))"
   ]
  },
  {
   "cell_type": "code",
   "execution_count": 18,
   "metadata": {},
   "outputs": [
    {
     "name": "stdout",
     "output_type": "stream",
     "text": [
      "label : 9\n"
     ]
    },
    {
     "data": {
      "image/png": "[encoded data removed]",
      "text/plain": [
       "<Figure size 432x288 with 1 Axes>"
      ]
     },
     "metadata": {},
     "output_type": "display_data"
    }
   ],
   "source": [
    "show_test(np.random.randint(test_num))"
   ]
  },
  {
   "cell_type": "code",
   "execution_count": null,
   "metadata": {},
   "outputs": [],
   "source": []
  }
 ],
 "metadata": {
  "kernelspec": {
   "display_name": "Python 3",
   "language": "python",
   "name": "python3"
  },
  "language_info": {
   "codemirror_mode": {
    "name": "ipython",
    "version": 3
   },
   "file_extension": ".py",
   "mimetype": "text/x-python",
   "name": "python",
   "nbconvert_exporter": "python",
   "pygments_lexer": "ipython3",
   "version": "3.6.5"
  }
 },
 "nbformat": 4,
 "nbformat_minor": 2
}
