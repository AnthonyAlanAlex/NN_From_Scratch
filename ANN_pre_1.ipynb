{
 "cells": [
  {
   "cell_type": "code",
   "execution_count": 412,
   "metadata": {},
   "outputs": [],
   "source": [
    "import numpy as np\n",
    "import math,struct,pickle\n",
    "from pathlib import Path\n",
    "import matplotlib.pyplot as plt"
   ]
  },
  {
   "cell_type": "code",
   "execution_count": 413,
   "metadata": {},
   "outputs": [],
   "source": [
    "def tanh(x):\n",
    "    return np.tanh(x)\n",
    "def softmax(x):\n",
    "    exp=np.exp(x-x.max())\n",
    "    return exp/exp.sum()"
   ]
  },
  {
   "cell_type": "code",
   "execution_count": 414,
   "metadata": {},
   "outputs": [],
   "source": [
    "dimensions=[28*28,10]\n",
    "activation=[tanh,softmax]\n",
    "distribution=[\n",
    "    {'b':[0,0]},\n",
    "    {'b':[0,0],'w':[-math.sqrt(6/(dimensions[0]+dimensions[1])),math.sqrt(6/(dimensions[0]+dimensions[1]))]},\n",
    "]"
   ]
  },
  {
   "cell_type": "code",
   "execution_count": 415,
   "metadata": {},
   "outputs": [],
   "source": [
    "def init_parameters_b(layer):\n",
    "    dist=distribution[layer]['b']\n",
    "    return np.random.rand(dimensions[layer])*(dist[1]-dist[0])+dist[0]\n",
    "def init_parameters_w(layer):\n",
    "    dist=distribution[layer]['w']\n",
    "    return np.random.rand(dimensions[layer-1],dimensions[layer])*(dist[1]-dist[0])+dist[0]\n",
    "def init_parameters():\n",
    "    parameter=[]\n",
    "    for i in range(len(distribution)):\n",
    "        layer_parameter={}\n",
    "        for j in distribution[i].keys():\n",
    "            if j=='b':\n",
    "                layer_parameter['b']=init_parameters_b(i)\n",
    "                continue\n",
    "            if j=='w':\n",
    "                layer_parameter['w']=init_parameters_w(i)\n",
    "                continue\n",
    "        parameter.append(layer_parameter)\n",
    "    return parameter"
   ]
  },
  {
   "cell_type": "code",
   "execution_count": 416,
   "metadata": {},
   "outputs": [],
   "source": [
    "parameters=init_parameters()"
   ]
  },
  {
   "cell_type": "code",
   "execution_count": 417,
   "metadata": {},
   "outputs": [],
   "source": [
    "def predict(img,parameters):\n",
    "    l0_in=img+parameters[0]['b']\n",
    "    l0_out=activation[0](l0_in)\n",
    "    l1_in=np.dot(l0_out,parameters[1]['w'])+parameters[1]['b']\n",
    "    l1_out=activation[1](l1_in)\n",
    "    return l1_out"
   ]
  },
  {
   "cell_type": "code",
   "execution_count": 418,
   "metadata": {},
   "outputs": [
    {
     "data": {
      "text/plain": [
       "7"
      ]
     },
     "execution_count": 418,
     "metadata": {},
     "output_type": "execute_result"
    }
   ],
   "source": [
    "predict(np.random.rand(784),parameters).argmax()"
   ]
  },
  {
   "cell_type": "code",
   "execution_count": 419,
   "metadata": {},
   "outputs": [],
   "source": [
    "test_img=[0.0, 0.0, 0.0, 0.0, 0.0, 0.0, 0.0, 0.0, 0.0, 0.0, 0.0, 0.0, 0.0, 0.0, 0.0, 0.0, 0.0, 0.0, 0.0, 0.0, 0.0, 0.0, 0.0, 0.0, 0.0, 0.0, 0.0, 0.0, 0.0, 0.0, 0.0, 0.0, 0.0, 0.0, 0.0, 0.0, 0.0, 0.0, 0.0, 0.0, 0.0, 0.0, 0.0, 0.0, 0.0, 0.0, 0.0, 0.0, 0.0, 0.0, 0.0, 0.0, 0.0, 0.0, 0.0, 0.0, 0.0, 0.0, 0.0, 0.0, 0.0, 0.0, 0.0, 0.0, 0.0, 0.0, 0.0, 0.0, 0.0, 0.0, 0.0, 0.0, 0.0, 0.0, 0.0, 0.0, 0.0, 0.0, 0.0, 0.0, 0.0, 0.0, 0.0, 0.0, 0.0, 0.0, 0.0, 0.0, 0.0, 0.0, 0.0, 0.0, 0.0, 0.0, 0.0, 0.0, 0.0, 0.0, 0.0, 0.0, 0.0, 0.0, 0.0, 0.0, 0.0, 0.0, 0.0, 0.0, 0.0, 0.0, 0.0, 0.0, 0.0, 0.0, 0.0, 0.0, 0.0, 0.0, 0.0, 0.0, 0.0, 0.0, 0.0, 0.0, 0.0, 0.0, 0.0, 0.0, 0.0, 0.0, 0.0, 0.0, 0.0, 0.0, 0.0, 0.0, 0.0, 0.0, 0.0, 0.0, 0.0, 0.0, 0.0, 0.0, 0.0, 0.0, 0.0, 0.0, 0.0, 0.0, 0.0, 0.0, 0.01171875, 0.0703125, 0.0703125, 0.0703125, 0.4921875, 0.53125, 0.68359375, 0.1015625, 0.6484375, 0.99609375, 0.96484375, 0.49609375, 0.0, 0.0, 0.0, 0.0, 0.0, 0.0, 0.0, 0.0, 0.0, 0.0, 0.0, 0.0, 0.1171875, 0.140625, 0.3671875, 0.6015625, 0.6640625, 0.98828125, 0.98828125, 0.98828125, 0.98828125, 0.98828125, 0.87890625, 0.671875, 0.98828125, 0.9453125, 0.76171875, 0.25, 0.0, 0.0, 0.0, 0.0, 0.0, 0.0, 0.0, 0.0, 0.0, 0.0, 0.0, 0.19140625, 0.9296875, 0.98828125, 0.98828125, 0.98828125, 0.98828125, 0.98828125, 0.98828125, 0.98828125, 0.98828125, 0.98046875, 0.36328125, 0.3203125, 0.3203125, 0.21875, 0.15234375, 0.0, 0.0, 0.0, 0.0, 0.0, 0.0, 0.0, 0.0, 0.0, 0.0, 0.0, 0.0, 0.0703125, 0.85546875, 0.98828125, 0.98828125, 0.98828125, 0.98828125, 0.98828125, 0.7734375, 0.7109375, 0.96484375, 0.94140625, 0.0, 0.0, 0.0, 0.0, 0.0, 0.0, 0.0, 0.0, 0.0, 0.0, 0.0, 0.0, 0.0, 0.0, 0.0, 0.0, 0.0, 0.0, 0.3125, 0.609375, 0.41796875, 0.98828125, 0.98828125, 0.80078125, 0.04296875, 0.0, 0.16796875, 0.6015625, 0.0, 0.0, 0.0, 0.0, 0.0, 0.0, 0.0, 0.0, 0.0, 0.0, 0.0, 0.0, 0.0, 0.0, 0.0, 0.0, 0.0, 0.0, 0.0, 0.0546875, 0.00390625, 0.6015625, 0.98828125, 0.3515625, 0.0, 0.0, 0.0, 0.0, 0.0, 0.0, 0.0, 0.0, 0.0, 0.0, 0.0, 0.0, 0.0, 0.0, 0.0, 0.0, 0.0, 0.0, 0.0, 0.0, 0.0, 0.0, 0.0, 0.0, 0.0, 0.54296875, 0.98828125, 0.7421875, 0.0078125, 0.0, 0.0, 0.0, 0.0, 0.0, 0.0, 0.0, 0.0, 0.0, 0.0, 0.0, 0.0, 0.0, 0.0, 0.0, 0.0, 0.0, 0.0, 0.0, 0.0, 0.0, 0.0, 0.0, 0.0, 0.04296875, 0.7421875, 0.98828125, 0.2734375, 0.0, 0.0, 0.0, 0.0, 0.0, 0.0, 0.0, 0.0, 0.0, 0.0, 0.0, 0.0, 0.0, 0.0, 0.0, 0.0, 0.0, 0.0, 0.0, 0.0, 0.0, 0.0, 0.0, 0.0, 0.0, 0.13671875, 0.94140625, 0.87890625, 0.625, 0.421875, 0.00390625, 0.0, 0.0, 0.0, 0.0, 0.0, 0.0, 0.0, 0.0, 0.0, 0.0, 0.0, 0.0, 0.0, 0.0, 0.0, 0.0, 0.0, 0.0, 0.0, 0.0, 0.0, 0.0, 0.0, 0.31640625, 0.9375, 0.98828125, 0.98828125, 0.46484375, 0.09765625, 0.0, 0.0, 0.0, 0.0, 0.0, 0.0, 0.0, 0.0, 0.0, 0.0, 0.0, 0.0, 0.0, 0.0, 0.0, 0.0, 0.0, 0.0, 0.0, 0.0, 0.0, 0.0, 0.0, 0.17578125, 0.7265625, 0.98828125, 0.98828125, 0.5859375, 0.10546875, 0.0, 0.0, 0.0, 0.0, 0.0, 0.0, 0.0, 0.0, 0.0, 0.0, 0.0, 0.0, 0.0, 0.0, 0.0, 0.0, 0.0, 0.0, 0.0, 0.0, 0.0, 0.0, 0.0, 0.0625, 0.36328125, 0.984375, 0.98828125, 0.73046875, 0.0, 0.0, 0.0, 0.0, 0.0, 0.0, 0.0, 0.0, 0.0, 0.0, 0.0, 0.0, 0.0, 0.0, 0.0, 0.0, 0.0, 0.0, 0.0, 0.0, 0.0, 0.0, 0.0, 0.0, 0.0, 0.97265625, 0.98828125, 0.97265625, 0.25, 0.0, 0.0, 0.0, 0.0, 0.0, 0.0, 0.0, 0.0, 0.0, 0.0, 0.0, 0.0, 0.0, 0.0, 0.0, 0.0, 0.0, 0.0, 0.0, 0.0, 0.0, 0.1796875, 0.5078125, 0.71484375, 0.98828125, 0.98828125, 0.80859375, 0.0078125, 0.0, 0.0, 0.0, 0.0, 0.0, 0.0, 0.0, 0.0, 0.0, 0.0, 0.0, 0.0, 0.0, 0.0, 0.0, 0.0, 0.0, 0.0, 0.0, 0.15234375, 0.578125, 0.89453125, 0.98828125, 0.98828125, 0.98828125, 0.9765625, 0.7109375, 0.0, 0.0, 0.0, 0.0, 0.0, 0.0, 0.0, 0.0, 0.0, 0.0, 0.0, 0.0, 0.0, 0.0, 0.0, 0.0, 0.0, 0.0, 0.09375, 0.4453125, 0.86328125, 0.98828125, 0.98828125, 0.98828125, 0.98828125, 0.78515625, 0.3046875, 0.0, 0.0, 0.0, 0.0, 0.0, 0.0, 0.0, 0.0, 0.0, 0.0, 0.0, 0.0, 0.0, 0.0, 0.0, 0.0, 0.0, 0.08984375, 0.2578125, 0.83203125, 0.98828125, 0.98828125, 0.98828125, 0.98828125, 0.7734375, 0.31640625, 0.0078125, 0.0, 0.0, 0.0, 0.0, 0.0, 0.0, 0.0, 0.0, 0.0, 0.0, 0.0, 0.0, 0.0, 0.0, 0.0, 0.0, 0.0703125, 0.66796875, 0.85546875, 0.98828125, 0.98828125, 0.98828125, 0.98828125, 0.76171875, 0.3125, 0.03515625, 0.0, 0.0, 0.0, 0.0, 0.0, 0.0, 0.0, 0.0, 0.0, 0.0, 0.0, 0.0, 0.0, 0.0, 0.0, 0.0, 0.21484375, 0.671875, 0.8828125, 0.98828125, 0.98828125, 0.98828125, 0.98828125, 0.953125, 0.51953125, 0.04296875, 0.0, 0.0, 0.0, 0.0, 0.0, 0.0, 0.0, 0.0, 0.0, 0.0, 0.0, 0.0, 0.0, 0.0, 0.0, 0.0, 0.0, 0.0, 0.53125, 0.98828125, 0.98828125, 0.98828125, 0.828125, 0.52734375, 0.515625, 0.0625, 0.0, 0.0, 0.0, 0.0, 0.0, 0.0, 0.0, 0.0, 0.0, 0.0, 0.0, 0.0, 0.0, 0.0, 0.0, 0.0, 0.0, 0.0, 0.0, 0.0, 0.0, 0.0, 0.0, 0.0, 0.0, 0.0, 0.0, 0.0, 0.0, 0.0, 0.0, 0.0, 0.0, 0.0, 0.0, 0.0, 0.0, 0.0, 0.0, 0.0, 0.0, 0.0, 0.0, 0.0, 0.0, 0.0, 0.0, 0.0, 0.0, 0.0, 0.0, 0.0, 0.0, 0.0, 0.0, 0.0, 0.0, 0.0, 0.0, 0.0, 0.0, 0.0, 0.0, 0.0, 0.0, 0.0, 0.0, 0.0, 0.0, 0.0, 0.0, 0.0, 0.0, 0.0, 0.0, 0.0, 0.0, 0.0, 0.0, 0.0, 0.0, 0.0, 0.0, 0.0, 0.0, 0.0, 0.0, 0.0, 0.0, 0.0, 0.0, 0.0, 0.0, 0.0, 0.0, 0.0, 0.0, 0.0, 0.0, 0.0]"
   ]
  },
  {
   "cell_type": "code",
   "execution_count": 420,
   "metadata": {
    "scrolled": true
   },
   "outputs": [
    {
     "data": {
      "text/plain": [
       "<matplotlib.image.AxesImage at 0x28f46423f98>"
      ]
     },
     "execution_count": 420,
     "metadata": {},
     "output_type": "execute_result"
    },
    {
     "data": {
      "image/png": "[encoded data removed]",
      "text/plain": [
       "<Figure size 432x288 with 1 Axes>"
      ]
     },
     "metadata": {},
     "output_type": "display_data"
    }
   ],
   "source": [
    "import matplotlib.pyplot as plt\n",
    "im = np.reshape(test_img,(28,28))\n",
    "plt.imshow(im , cmap='gray')"
   ]
  },
  {
   "cell_type": "code",
   "execution_count": 421,
   "metadata": {},
   "outputs": [],
   "source": [
    "path='model_02.pkl'\n",
    "with open(path,'rb') as f:\n",
    "    parameters=pickle.load(f)"
   ]
  },
  {
   "cell_type": "code",
   "execution_count": 422,
   "metadata": {},
   "outputs": [
    {
     "data": {
      "text/plain": [
       "5"
      ]
     },
     "execution_count": 422,
     "metadata": {},
     "output_type": "execute_result"
    }
   ],
   "source": [
    "predict(np.array(test_img),parameters).argmax()"
   ]
  },
  {
   "cell_type": "code",
   "execution_count": 423,
   "metadata": {},
   "outputs": [
    {
     "data": {
      "text/plain": [
       "[{'b': array([-1.22268644e-02, -1.69337185e-02, -1.55384097e-02, -3.15686490e-02,\n",
       "          1.10621898e-02,  5.53598326e-03, -6.35943805e-03, -5.84399455e-03,\n",
       "          8.42867360e-03,  5.93783115e-03, -1.56796413e-02, -5.56046295e-03,\n",
       "         -1.58257714e-02, -2.08147441e-02,  4.14084064e-03, -3.30956987e-03,\n",
       "         -1.44388093e-02, -1.70634684e-02,  1.99394249e-04, -8.62252737e-03,\n",
       "          2.74250602e-02, -1.00596961e-02, -3.61814817e-03,  2.21515384e-03,\n",
       "          1.08541903e-02,  1.01123336e-02, -6.22160272e-03,  2.33535257e-02,\n",
       "         -1.44424552e-02,  6.65463041e-03, -1.68420346e-02,  7.61633816e-04,\n",
       "          4.15787745e-03,  5.26976593e-02,  1.05732735e-02, -7.68558429e-03,\n",
       "         -3.49612494e-02,  5.01457301e-02, -2.15991903e-02,  2.41617243e-02,\n",
       "          9.82514398e-03, -1.22803316e-03,  2.24658303e-02, -1.66578564e-02,\n",
       "          1.14147401e-02, -2.75883366e-02,  1.08087783e-02,  2.57514564e-02,\n",
       "         -2.37001587e-03,  4.03441970e-02, -1.53690019e-02,  3.20923099e-02,\n",
       "         -1.53115285e-02,  1.80925914e-02,  1.47231549e-02,  7.50672206e-03,\n",
       "         -3.17228159e-02,  8.83694087e-03, -3.60282717e-02, -3.47996845e-02,\n",
       "          2.84934299e-02,  1.10098105e-02, -9.80658948e-03, -9.13058644e-03,\n",
       "         -1.08974956e-02,  1.17240803e-02, -8.01785662e-03,  2.57139097e-02,\n",
       "         -4.78369556e-02, -3.31494929e-02, -2.04158147e-03, -4.47920292e-02,\n",
       "         -2.87328217e-02,  1.75568763e-02, -8.00177244e-03, -2.11882832e-02,\n",
       "          2.38258624e-02, -2.01836592e-02,  1.33275166e-02,  2.49533179e-02,\n",
       "         -3.46555390e-02,  1.01372354e-02, -1.80305171e-02, -2.21948497e-03,\n",
       "          4.15862033e-03,  1.92581323e-02, -8.21417572e-03,  2.01718593e-02,\n",
       "         -1.54302325e-02, -2.27069047e-02, -2.15096940e-02, -2.42818986e-02,\n",
       "          2.69154957e-02, -7.99277088e-02, -1.10801423e-01, -8.67917718e-02,\n",
       "         -1.44727466e-01, -2.19170437e-01, -1.29590089e-01, -4.01536356e-02,\n",
       "         -9.47115623e-02, -2.61724631e-02,  2.45285868e-03,  3.48997261e-04,\n",
       "         -7.05706853e-04, -6.05218585e-03, -1.52986847e-02, -1.41163693e-02,\n",
       "          7.29833814e-03,  9.53646405e-04,  5.26814554e-03,  1.02208958e-02,\n",
       "         -5.79355099e-03,  8.09656341e-04,  1.84189471e-03,  2.48031139e-02,\n",
       "          1.72354463e-02, -4.75629015e-02, -7.58360266e-03, -7.01669044e-02,\n",
       "         -1.37665737e-01, -1.71161779e-01, -1.87889514e-01, -1.26953024e-01,\n",
       "         -1.61781093e-01, -2.43987400e-01, -1.54979842e-01, -2.11324446e-01,\n",
       "         -1.12310103e-01, -6.53433340e-02, -6.95706783e-02, -2.26893529e-02,\n",
       "          4.23122214e-03, -4.11015105e-02, -1.57484630e-01, -7.81927202e-02,\n",
       "          1.73304268e-02, -6.04166177e-03,  5.50195821e-03, -7.99048974e-03,\n",
       "          2.32094882e-03,  7.87762776e-03,  5.02679513e-03,  7.11787081e-04,\n",
       "         -3.44040664e-02, -7.52547708e-02, -8.38658104e-02, -9.45158733e-02,\n",
       "         -7.41882382e-02, -3.03271675e-02, -1.03862434e-01, -1.77992423e-01,\n",
       "         -1.10451811e-01, -1.48097800e-01, -1.10971227e-01, -2.12041553e-01,\n",
       "         -1.84888105e-01, -1.87777288e-01, -1.68363779e-01, -1.34908918e-01,\n",
       "         -7.51270295e-02, -3.89287026e-02, -1.76490476e-01, -1.56022348e-01,\n",
       "         -2.05405825e-02,  1.35411699e-02,  1.38939821e-02,  1.10939091e-03,\n",
       "          1.42206066e-02, -3.57383712e-03,  4.12501090e-03, -1.20023732e-02,\n",
       "         -6.75636411e-02, -1.27330046e-01, -1.40162019e-01, -8.53870166e-02,\n",
       "         -6.67225414e-02, -1.85106726e-02, -6.35079466e-02, -9.49834064e-02,\n",
       "         -1.76343638e-02, -2.01113168e-01, -3.15217475e-01,  6.30042821e-02,\n",
       "         -2.12457267e-01, -1.14423871e-01, -2.43303572e-01, -5.73313824e-02,\n",
       "         -8.54364037e-02, -1.37387247e-02, -8.23364657e-02, -1.46469122e-01,\n",
       "         -7.81592843e-02, -7.68741145e-03,  9.35315954e-03,  2.39751398e-02,\n",
       "         -2.37456053e-02,  8.49326210e-03,  3.18910276e-02, -4.12502010e-02,\n",
       "         -1.53702396e-01, -1.44118530e-01, -1.71657678e-01, -9.93919216e-02,\n",
       "         -1.21161216e-01, -1.15974646e-01, -1.58447015e-01, -2.51065905e-01,\n",
       "         -3.67033182e-01,  3.48047961e-02,  2.19305063e-02,  9.88726025e-02,\n",
       "          3.76474339e-02, -2.07093232e-01, -1.21655644e-01, -2.12563969e-01,\n",
       "         -1.53544877e-01, -6.75341526e-02, -3.91669960e-02, -1.20411979e-01,\n",
       "         -1.07524604e-01, -3.49188415e-02,  3.08096345e-02,  2.82244099e-02,\n",
       "          1.87227719e-03,  2.52176686e-02, -8.34886287e-03, -1.41428168e-02,\n",
       "         -1.94960993e-01, -1.86037326e-01, -8.31963458e-02, -1.04662629e-01,\n",
       "         -1.09771569e-01, -3.44537295e-02, -1.03130754e-01, -2.42546529e-01,\n",
       "         -1.48160153e-01,  3.49570490e-02, -1.86860092e-01, -1.92438264e-01,\n",
       "         -9.16941285e-02, -2.45343232e-01, -2.57197736e-01, -2.69781473e-01,\n",
       "         -2.08707431e-01, -1.53521118e-01, -1.23259644e-01, -2.49639138e-01,\n",
       "         -1.84321796e-01, -8.98204944e-02, -3.94065921e-03,  3.04305510e-03,\n",
       "         -2.43202149e-02, -1.31083123e-02,  8.43330005e-03, -5.53174560e-02,\n",
       "         -1.72953254e-01, -1.13506313e-01, -2.36906402e-02, -2.35699544e-03,\n",
       "         -1.44486621e-02,  1.21344558e-02, -1.82424161e-03, -8.88149482e-02,\n",
       "         -2.40158723e-01, -2.35905352e-01, -6.69450500e-01, -5.80441678e-01,\n",
       "         -3.29341355e-01, -2.83979047e-01, -3.21949215e-01, -2.54472500e-01,\n",
       "         -1.22814353e-01, -1.44139806e-01, -9.13440710e-02, -2.16099359e-01,\n",
       "         -2.44268199e-01, -1.25016315e-01,  8.48517665e-03, -2.73813382e-02,\n",
       "         -1.07794779e-04,  1.72252967e-02, -7.90939972e-03, -6.22181876e-02,\n",
       "         -6.88823266e-02, -3.27178185e-02,  1.20520758e-02,  1.84578168e-02,\n",
       "         -6.69921849e-02, -1.90574288e-01, -2.94906496e-01, -2.23125668e-01,\n",
       "         -2.38136695e-01, -2.83676914e-01, -6.68635165e-01, -8.40915666e-01,\n",
       "         -6.73818637e-01, -3.04597926e-01, -1.26694134e-01, -2.73171774e-01,\n",
       "         -1.16843081e-01, -9.72890703e-02, -1.27224229e-01, -2.23067406e-01,\n",
       "         -3.26543964e-01, -2.77547728e-01, -9.12095896e-03,  1.05457407e-02,\n",
       "         -1.48237868e-02,  2.16070092e-03, -1.50465160e-02, -6.35368522e-02,\n",
       "         -2.27514134e-02, -7.05256820e-02, -1.00132914e-01, -2.79171211e-01,\n",
       "         -5.13122336e-01, -3.75722223e-01, -1.76302782e-01, -8.86932436e-02,\n",
       "         -1.99840458e-02, -3.12939523e-01, -5.49250145e-01, -5.97428793e-01,\n",
       "         -6.49224806e-01, -4.44085725e-01, -3.51878717e-01, -2.92710754e-01,\n",
       "         -4.59664431e-01, -3.87971310e-01, -2.57723639e-01, -1.38318566e-01,\n",
       "         -1.50609898e-01, -6.17016832e-02, -9.86031994e-03,  3.42224621e-02,\n",
       "          1.66658133e-03, -3.30453976e-02, -6.17895479e-03, -1.96754107e-02,\n",
       "         -4.23051918e-02, -2.20929662e-01, -4.02760300e-01, -4.29542902e-01,\n",
       "         -4.43720871e-01, -2.73026843e-01, -3.69963030e-01, -3.86620114e-01,\n",
       "         -4.75481437e-01, -2.92541277e-01, -5.41063133e-01, -5.09610624e-01,\n",
       "         -4.28605013e-01, -4.10597401e-01, -1.92457011e-01, -1.12285501e-01,\n",
       "         -1.89432486e-01, -2.63282181e-01, -4.12577244e-01, -3.66085363e-01,\n",
       "         -2.91663524e-01, -6.66641015e-02,  1.63004284e-03, -2.31795893e-03,\n",
       "         -2.78637823e-02, -2.25536029e-02,  5.29765783e-03, -1.55219067e-02,\n",
       "         -8.50665814e-02, -2.71426598e-01, -4.25355031e-01, -4.40105315e-01,\n",
       "         -3.12702732e-01, -2.13580132e-01, -1.67508630e-01, -4.69596534e-01,\n",
       "         -3.75420006e-01, -3.37845414e-01, -3.21085010e-01, -3.89578599e-01,\n",
       "         -2.20229909e-01, -3.18552947e-01, -2.27103277e-01, -2.20452398e-01,\n",
       "         -2.17558625e-01, -1.85352923e-01, -9.86300748e-02, -3.39664130e-01,\n",
       "         -2.52259243e-01, -3.49533823e-02, -2.41803306e-02, -1.12562604e-02,\n",
       "         -1.36240722e-02,  2.68177648e-02,  1.31959603e-02,  3.01506126e-02,\n",
       "         -6.56231213e-02, -2.17469497e-01, -2.98380271e-01, -2.29906969e-01,\n",
       "         -2.69818482e-01, -2.54428980e-01, -2.97020988e-01, -2.37130173e-01,\n",
       "         -2.87150279e-01, -7.69185834e-02, -1.92331814e-01, -9.42780710e-02,\n",
       "         -2.78675158e-01, -2.80364741e-01, -1.87055879e-01, -1.92364548e-01,\n",
       "         -2.32137059e-01, -1.08292845e-01, -1.20692706e-01, -1.96658899e-01,\n",
       "         -1.04086018e-01, -1.98079857e-02, -7.80007316e-03, -5.13595795e-03,\n",
       "          8.36515841e-03, -9.54429244e-03,  3.90468971e-02, -4.50447137e-02,\n",
       "         -4.58927896e-02, -2.29042577e-01, -2.44104772e-01, -2.61095878e-01,\n",
       "         -3.27711808e-01, -2.25661372e-01, -1.61788898e-01, -2.97462923e-01,\n",
       "         -1.31632813e-01, -2.21145464e-01, -3.73007230e-01, -2.69581221e-01,\n",
       "         -2.79297402e-01, -3.19309241e-01, -2.16301890e-01, -1.83451042e-01,\n",
       "         -1.84772612e-01, -1.64635829e-01, -1.83568509e-01, -1.77195628e-01,\n",
       "         -1.06770492e-01, -1.08576558e-01, -5.23872379e-02, -2.91378343e-02,\n",
       "          5.92598226e-03,  8.11879687e-03, -1.40053514e-02, -5.59475634e-03,\n",
       "         -1.05735168e-01, -2.00900618e-01, -3.39018851e-01, -3.29749977e-01,\n",
       "         -4.38490876e-01, -2.99599899e-01, -1.75965683e-01, -8.95142373e-02,\n",
       "          3.89158929e-02, -3.39129992e-01, -4.73877445e-01, -2.41716875e-01,\n",
       "         -2.13476300e-01, -3.94031562e-01, -2.70555064e-01, -1.87622565e-01,\n",
       "         -1.98081001e-01, -2.82577340e-01, -2.15859303e-01, -1.23251724e-01,\n",
       "         -1.69374237e-01, -1.55065743e-01, -5.03200933e-02,  3.21914799e-02,\n",
       "          1.09210532e-02, -2.07722793e-02,  1.27766606e-02, -6.15728590e-02,\n",
       "         -1.66441957e-01, -2.25421198e-01, -2.33192807e-01, -2.98226284e-01,\n",
       "         -5.21575560e-01, -5.71481427e-01, -4.32793359e-01, -2.67803953e-01,\n",
       "         -2.17069597e-01, -4.93463612e-01, -4.84429823e-01, -2.57379064e-01,\n",
       "         -1.49082698e-01, -2.41954766e-01, -2.13170518e-01, -1.39979312e-01,\n",
       "         -1.42071975e-01, -6.92747000e-02, -1.62633985e-01, -7.51408490e-02,\n",
       "         -1.07118281e-01, -1.00746271e-01, -2.25087079e-02, -1.35342794e-02,\n",
       "         -3.63728147e-03,  1.95986245e-02,  2.45602032e-02, -5.28443142e-02,\n",
       "         -2.04052887e-01, -2.96661332e-01, -1.67588652e-01, -2.08367068e-01,\n",
       "         -1.87013984e-01, -1.80277025e-01, -4.55763215e-01, -1.51330492e-01,\n",
       "         -5.33445341e-01, -4.26931718e-01, -3.68864924e-01, -8.47182818e-02,\n",
       "         -2.88196737e-01, -2.07865287e-01, -1.45185672e-01, -7.01546305e-02,\n",
       "         -1.16709495e-02, -2.08378927e-01, -1.95098045e-01, -2.09146246e-01,\n",
       "         -2.63609428e-01, -9.28347033e-02, -1.37160510e-02, -4.36503355e-03,\n",
       "         -2.87629533e-02,  7.49413668e-03,  5.67512376e-03, -9.02641914e-02,\n",
       "         -1.20289024e-01, -1.42797407e-01, -1.06463881e-01, -1.56660915e-01,\n",
       "         -2.47968376e-01, -2.85034555e-01, -1.73900650e-01, -2.94735360e-01,\n",
       "         -1.41531259e-01, -2.73910033e-01, -3.39727978e-01, -8.03252051e-02,\n",
       "         -1.02089255e-01, -1.62019369e-01, -8.09343889e-02, -9.01358305e-02,\n",
       "         -8.99351307e-02, -2.15086118e-01, -1.38735207e-01, -7.58265342e-02,\n",
       "         -8.68047172e-02, -7.34877618e-02, -2.01200149e-02, -1.36053060e-02,\n",
       "          7.91710076e-03,  1.39837430e-02,  1.64057822e-02, -3.64241052e-02,\n",
       "         -1.84386574e-01, -1.06917864e-01, -2.59905349e-01, -2.17530512e-01,\n",
       "         -1.87078879e-01, -2.34035386e-01, -2.77515774e-01, -4.04869531e-01,\n",
       "         -2.13300556e-01, -2.24947395e-01, -3.15840061e-01, -7.70943371e-02,\n",
       "         -2.67802739e-01, -1.47284654e-01, -1.51310282e-01, -8.14579388e-02,\n",
       "         -1.24634212e-01, -8.16140113e-02, -1.20413244e-01, -4.60831703e-02,\n",
       "         -6.23793094e-02, -1.53225855e-02,  6.98508579e-03,  1.78891673e-03,\n",
       "          1.37863638e-03,  2.93005843e-04, -1.77360794e-02, -1.90664121e-02,\n",
       "         -1.39989187e-01, -1.62313160e-01, -1.61060677e-01, -1.08275769e-01,\n",
       "         -1.24983336e-01, -1.18766417e-01, -2.35212614e-01, -3.20493880e-01,\n",
       "         -2.32436684e-01, -5.62999583e-02, -2.12606050e-01, -1.38022994e-01,\n",
       "         -1.72298216e-01, -9.95642190e-02, -1.70824165e-01, -1.09902532e-01,\n",
       "         -3.43779240e-02, -1.13899672e-01, -8.53724494e-02, -5.59262223e-02,\n",
       "         -3.92097790e-02, -5.95219650e-03,  4.20466374e-03,  6.51565618e-03,\n",
       "          1.45827662e-02, -2.48913214e-03,  1.16688625e-02, -2.78870153e-03,\n",
       "         -1.11414901e-01, -1.92004399e-01, -1.57487879e-01, -1.08451270e-01,\n",
       "         -1.32432937e-01, -1.82714334e-01, -2.04570023e-01, -1.01889571e-01,\n",
       "         -6.91079766e-02, -1.08182834e-03, -2.78767952e-02, -7.99285637e-02,\n",
       "         -1.69668998e-01, -1.79870083e-01, -2.14096211e-01, -1.79845293e-01,\n",
       "         -1.48217354e-01, -7.60177288e-02, -1.25912866e-01, -1.06655130e-01,\n",
       "         -4.07573900e-02, -9.95440237e-03, -1.85522735e-02, -4.83758212e-04,\n",
       "         -1.87080311e-02, -3.70287818e-03, -2.11299896e-02, -2.98011852e-02,\n",
       "         -4.76841504e-02, -1.82013833e-01, -2.61216575e-01, -1.55968177e-01,\n",
       "         -9.65055018e-02, -1.78451289e-01, -1.38053023e-01, -1.04428226e-01,\n",
       "          4.99404977e-02,  2.40630765e-01,  1.67018544e-02,  5.91195007e-02,\n",
       "         -9.49863341e-02, -1.42102279e-01, -1.80285759e-01, -1.64555397e-01,\n",
       "         -1.68261535e-01, -1.22376557e-01, -1.12365832e-01, -2.28170170e-02,\n",
       "         -2.79019121e-02,  5.94000775e-03, -1.83717799e-02, -7.57018522e-03,\n",
       "         -1.45564382e-02, -4.49766609e-05, -5.56187825e-03,  2.38635404e-03,\n",
       "         -5.74899444e-02, -1.49673253e-01, -2.09541284e-01, -1.85923994e-01,\n",
       "         -7.36931260e-02, -5.50624929e-02, -1.00670539e-01, -8.23911576e-02,\n",
       "         -8.59719177e-02, -1.35583152e-01, -1.23570162e-01, -8.60931599e-02,\n",
       "         -5.67039592e-02,  7.09535631e-03, -5.51935634e-02, -1.23500747e-01,\n",
       "         -1.11114073e-01, -2.62364511e-02, -2.07041015e-02, -2.66246219e-02,\n",
       "         -4.75992166e-03,  8.42124269e-03,  1.85347985e-02, -3.72606050e-02,\n",
       "         -2.05333030e-02,  9.78144822e-03,  1.37291744e-02, -6.07043370e-03,\n",
       "         -3.28211260e-02, -5.06378093e-02, -4.01424519e-02, -1.38809479e-01,\n",
       "         -1.23208786e-01, -1.16435591e-01, -1.53569009e-01, -1.85469943e-01,\n",
       "         -1.17631694e-01, -7.44899192e-02, -6.48336179e-02, -7.19160225e-02,\n",
       "         -9.24632794e-02, -4.91341506e-02, -8.48304743e-02, -5.93439775e-02,\n",
       "         -8.62027210e-02, -3.67767418e-02, -3.21588718e-03, -1.20862829e-02,\n",
       "          6.58541398e-03, -7.12433284e-03,  4.98478134e-03, -1.46439224e-02,\n",
       "         -1.86283844e-02, -2.96034680e-03,  4.81032989e-03,  4.37350114e-03,\n",
       "         -6.02080072e-03, -2.74059884e-02,  6.84022071e-03, -4.75969929e-02,\n",
       "         -3.06459505e-02, -6.06866755e-02, -8.51643953e-02, -9.67014895e-02,\n",
       "         -8.27342087e-02, -9.89252974e-02, -1.84632945e-01, -9.83921718e-02,\n",
       "         -9.44570577e-02, -7.83795556e-02, -6.48276731e-02, -3.19482712e-02,\n",
       "         -3.26097261e-02,  1.20533521e-02,  2.13054216e-02,  3.83909066e-03,\n",
       "         -3.17931422e-02, -3.93746571e-03, -3.11557256e-02, -2.92565563e-02,\n",
       "          1.74182616e-02, -9.29867681e-03, -7.26465547e-04,  4.03957913e-02,\n",
       "          3.92190945e-02,  3.44294697e-03, -7.78731639e-03, -5.15889658e-03,\n",
       "         -4.40789673e-03, -9.34247013e-04, -1.32463128e-02, -2.06281348e-02,\n",
       "         -3.47260929e-02,  7.94829280e-03, -8.51018995e-03,  2.11435687e-02,\n",
       "         -2.34050780e-02, -1.39743571e-04, -1.39631449e-02, -1.60058933e-02,\n",
       "         -1.00456277e-02, -2.14583523e-02, -7.43237077e-03, -3.85340322e-03,\n",
       "         -4.90339799e-03, -2.50748895e-02,  2.88008228e-02, -2.20376321e-03])},\n",
       " {'w': array([[-0.05954934,  0.03032614, -0.00032207, ...,  0.06142349,\n",
       "          -0.04571915,  0.06348648],\n",
       "         [ 0.07681583,  0.00797561, -0.00266409, ...,  0.02930079,\n",
       "           0.03400993,  0.04864621],\n",
       "         [ 0.00330505,  0.01478545,  0.08203109, ..., -0.01547735,\n",
       "          -0.03037345, -0.02761256],\n",
       "         ...,\n",
       "         [ 0.06173073,  0.06865266,  0.07350748, ...,  0.03291034,\n",
       "          -0.04128883,  0.07230146],\n",
       "         [-0.0475267 , -0.01876552,  0.027709  , ..., -0.03261928,\n",
       "          -0.00434977, -0.08390339],\n",
       "         [-0.00782083,  0.05744823,  0.05240999, ...,  0.00289999,\n",
       "          -0.04355425, -0.00459715]]),\n",
       "  'b': array([-0.258677  , -0.08531378, -0.09109682, -0.03821053, -0.02365061,\n",
       "          0.36632011,  0.06790924,  0.01340604,  0.0680387 , -0.01872535])},\n",
       " {}]"
      ]
     },
     "execution_count": 423,
     "metadata": {},
     "output_type": "execute_result"
    }
   ],
   "source": [
    "parameters"
   ]
  },
  {
   "cell_type": "code",
   "execution_count": 424,
   "metadata": {},
   "outputs": [],
   "source": [
    "dataset_path=Path('./MNIST')\n",
    "train_img_path=dataset_path/'train-images.idx3-ubyte'\n",
    "train_lab_path=dataset_path/'train-labels.idx1-ubyte'\n",
    "test_img_path=dataset_path/'t10k-images.idx3-ubyte'\n",
    "test_lab_path=dataset_path/'t10k-labels.idx1-ubyte'"
   ]
  },
  {
   "cell_type": "code",
   "execution_count": 425,
   "metadata": {},
   "outputs": [],
   "source": [
    "train_num=50000\n",
    "valid_num=10000\n",
    "test_num=10000\n",
    "\n",
    "with open(train_img_path,'rb') as f:\n",
    "    struct.unpack('>4i',f.read(16))\n",
    "    tmp_img=np.fromfile(f,dtype=np.uint8).reshape(-1,28*28)\n",
    "    train_img=tmp_img[:train_num]\n",
    "    valid_img=tmp_img[train_num:]\n",
    "    \n",
    "with open(test_img_path,'rb') as f:\n",
    "    struct.unpack('>4i',f.read(16))\n",
    "    test_img=np.fromfile(f,dtype=np.uint8).reshape(-1,28*28)\n",
    "\n",
    "with open(train_lab_path,'rb') as f:\n",
    "    struct.unpack('>2i',f.read(8))\n",
    "    tmp_lab=np.fromfile(f,dtype=np.uint8)\n",
    "    train_lab=tmp_lab[:train_num]\n",
    "    valid_lab=tmp_lab[train_num:]\n",
    "    \n",
    "with open(test_lab_path,'rb') as f:\n",
    "    struct.unpack('>2i',f.read(8))\n",
    "    test_lab=np.fromfile(f,dtype=np.uint8)"
   ]
  },
  {
   "cell_type": "code",
   "execution_count": 426,
   "metadata": {},
   "outputs": [],
   "source": [
    "def show_train(index):\n",
    "    plt.imshow(train_img[index].reshape(28,28),cmap='gray')\n",
    "    print('label : {}'.format(train_lab[index]))\n",
    "def show_valid(index):\n",
    "    plt.imshow(valid_img[index].reshape(28,28),cmap='gray')\n",
    "    print('label : {}'.format(valid_lab[index]))\n",
    "def show_test(index):\n",
    "    plt.imshow(test_img[index].reshape(28,28),cmap='gray')\n",
    "    print('label : {}'.format(test_lab[index]))"
   ]
  },
  {
   "cell_type": "code",
   "execution_count": 427,
   "metadata": {
    "scrolled": false
   },
   "outputs": [
    {
     "name": "stdout",
     "output_type": "stream",
     "text": [
      "label : 0\n"
     ]
    },
    {
     "data": {
      "image/png": "[encoded data removed]",
      "text/plain": [
       "<Figure size 432x288 with 1 Axes>"
      ]
     },
     "metadata": {},
     "output_type": "display_data"
    }
   ],
   "source": [
    "show_train(np.random.randint(train_num))"
   ]
  },
  {
   "cell_type": "code",
   "execution_count": 428,
   "metadata": {},
   "outputs": [
    {
     "name": "stdout",
     "output_type": "stream",
     "text": [
      "label : 2\n"
     ]
    },
    {
     "data": {
      "image/png": "[encoded data removed]",
      "text/plain": [
       "<Figure size 432x288 with 1 Axes>"
      ]
     },
     "metadata": {},
     "output_type": "display_data"
    }
   ],
   "source": [
    "show_valid(np.random.randint(valid_num))"
   ]
  },
  {
   "cell_type": "code",
   "execution_count": 429,
   "metadata": {
    "scrolled": false
   },
   "outputs": [
    {
     "name": "stdout",
     "output_type": "stream",
     "text": [
      "label : 3\n"
     ]
    },
    {
     "data": {
      "image/png": "[encoded data removed]",
      "text/plain": [
       "<Figure size 432x288 with 1 Axes>"
      ]
     },
     "metadata": {},
     "output_type": "display_data"
    }
   ],
   "source": [
    "show_test(np.random.randint(test_num))"
   ]
  },
  {
   "cell_type": "code",
   "execution_count": 430,
   "metadata": {},
   "outputs": [],
   "source": [
    "def d_softmax(data):\n",
    "    sm=softmax(data)\n",
    "    return np.diag(sm)-np.outer(sm,sm)\n",
    "\n",
    "# def d_tanh(data):\n",
    "#     return np.diag(1/(np.cosh(data))**2)\n",
    "def d_tanh(data):\n",
    "    return 1/(np.cosh(data))**2\n",
    "\n",
    "differential={softmax:d_softmax,tanh:d_tanh}"
   ]
  },
  {
   "cell_type": "code",
   "execution_count": 431,
   "metadata": {},
   "outputs": [
    {
     "data": {
      "text/plain": [
       "array([0.41997434, 0.07065082, 0.00986604, 0.00134095])"
      ]
     },
     "execution_count": 431,
     "metadata": {},
     "output_type": "execute_result"
    }
   ],
   "source": [
    "d_tanh([1,2,3,4])"
   ]
  },
  {
   "cell_type": "code",
   "execution_count": 432,
   "metadata": {},
   "outputs": [
    {
     "data": {
      "text/plain": [
       "array([[ 0.03103085, -0.00279373, -0.00759413, -0.02064299],\n",
       "       [-0.00279373,  0.07955019, -0.02064299, -0.05611347],\n",
       "       [-0.00759413, -0.02064299,  0.18076935, -0.15253222],\n",
       "       [-0.02064299, -0.05611347, -0.15253222,  0.22928869]])"
      ]
     },
     "execution_count": 432,
     "metadata": {},
     "output_type": "execute_result"
    }
   ],
   "source": [
    "d_softmax(np.array([1,2,3,4]))"
   ]
  },
  {
   "cell_type": "code",
   "execution_count": 433,
   "metadata": {},
   "outputs": [
    {
     "name": "stdout",
     "output_type": "stream",
     "text": [
      "[-4.79630346e-06  1.43301350e-06  1.57663188e-06  1.78665780e-06]\n",
      "[ 1.06052546e-06 -4.36496259e-06  1.99621482e-06  1.30822204e-06]\n",
      "[ 2.12148813e-06  1.51277105e-06 -4.81103267e-06  1.17677321e-06]\n",
      "[ 1.44132658e-06  1.40046493e-06  1.85056520e-06 -4.69235643e-06]\n"
     ]
    }
   ],
   "source": [
    "h=0.0001\n",
    "func=softmax\n",
    "input_len=4\n",
    "for i in range(input_len):\n",
    "    test_input=np.random.rand(input_len)\n",
    "    derivative=differential[func](test_input)\n",
    "    value1=func(test_input)\n",
    "    test_input[i]+=h\n",
    "    value2=func(test_input)\n",
    "#     print((value2-value1)/h)\n",
    "#     print(derivative[i])\n",
    "    print(derivative[i]-(value2-value1)/h)"
   ]
  },
  {
   "cell_type": "code",
   "execution_count": 434,
   "metadata": {},
   "outputs": [
    {
     "name": "stdout",
     "output_type": "stream",
     "text": [
      "[3.75077114e-07 7.49388145e-01 7.49388145e-01 7.49388145e-01]\n",
      "[9.77588385e-01 1.46340571e-07 9.77588385e-01 9.77588385e-01]\n",
      "[8.28067413e-01 8.28067413e-01 3.43371143e-07 8.28067413e-01]\n",
      "[6.36302442e-01 6.36302442e-01 6.36302442e-01 3.83780900e-07]\n"
     ]
    }
   ],
   "source": [
    "h=0.000001\n",
    "func=tanh\n",
    "input_len=4\n",
    "for i in range(input_len):\n",
    "    test_input=np.random.rand(input_len)\n",
    "    derivative=differential[func](test_input)\n",
    "    value1=func(test_input)\n",
    "    test_input[i]+=h\n",
    "    value2=func(test_input)\n",
    "#     print((value2-value1)/h)\n",
    "#     print(derivative[i])\n",
    "    print(derivative[i]-(value2-value1)/h)"
   ]
  },
  {
   "cell_type": "code",
   "execution_count": 435,
   "metadata": {},
   "outputs": [],
   "source": [
    "onehot=np.identity(dimensions[-1])\n",
    "\n",
    "def sqr_loss(img,lab,parameters):\n",
    "    y_pred=predict(img,parameters)\n",
    "    y=onehot[lab]\n",
    "    diff=y-y_pred\n",
    "    return np.dot(diff,diff)"
   ]
  },
  {
   "cell_type": "code",
   "execution_count": 436,
   "metadata": {},
   "outputs": [
    {
     "data": {
      "text/plain": [
       "0.10263648423433012"
      ]
     },
     "execution_count": 436,
     "metadata": {},
     "output_type": "execute_result"
    }
   ],
   "source": [
    "sqr_loss(train_img[0],train_lab[0],parameters)"
   ]
  },
  {
   "cell_type": "code",
   "execution_count": 437,
   "metadata": {},
   "outputs": [],
   "source": [
    "def grad_parameters(img,lab,parameters):\n",
    "    l0_in=img+parameters[0]['b']\n",
    "    l0_out=activation[0](l0_in)\n",
    "    l1_in=np.dot(l0_out,parameters[1]['w'])+parameters[1]['b']\n",
    "    l1_out=activation[1](l1_in)\n",
    "    \n",
    "    diff=onehot[lab]-l1_out\n",
    "    act1=np.dot(differential[activation[1]](l1_in),diff)\n",
    "    \n",
    "    grad_b1=-2*act1\n",
    "    grad_w1=-2*np.outer(l0_out,act1)\n",
    "    grad_b0=-2*differential[activation[0]](l0_in)*np.dot(parameters[1]['w'],act1)\n",
    "    \n",
    "    return {'w1':grad_w1,'b1':grad_b1,'b0':grad_b0}"
   ]
  },
  {
   "cell_type": "code",
   "execution_count": 438,
   "metadata": {},
   "outputs": [
    {
     "data": {
      "text/plain": [
       "{'w1': array([[0., 0., 0., ..., 0., 0., 0.],\n",
       "        [0., 0., 0., ..., 0., 0., 0.],\n",
       "        [0., 0., 0., ..., 0., 0., 0.],\n",
       "        ...,\n",
       "        [0., 0., 0., ..., 0., 0., 0.],\n",
       "        [0., 0., 0., ..., 0., 0., 0.],\n",
       "        [0., 0., 0., ..., 0., 0., 0.]]),\n",
       " 'b1': array([ 0.00044855,  0.00189367,  0.01035186,  0.02675018, -0.14141527,\n",
       "         0.03932357,  0.01907385,  0.01828508,  0.01929373,  0.00599477]),\n",
       " 'b0': array([-9.48883874e-003,  1.09069147e-002,  2.83405707e-003,\n",
       "        -3.35560405e-003,  8.78667761e-003,  9.19894228e-003,\n",
       "        -1.45633625e-002, -2.72318025e-003,  5.32164883e-003,\n",
       "        -7.60512166e-003, -5.17578352e-003,  1.10301580e-003,\n",
       "         4.94312606e-003,  9.89732459e-003,  1.22115434e-002,\n",
       "        -1.29487581e-002,  9.14521412e-004, -9.27545691e-003,\n",
       "         9.55402424e-003,  8.94594987e-004, -3.99957932e-003,\n",
       "        -5.61201545e-003,  6.64645073e-003, -1.17153903e-002,\n",
       "         1.71753295e-003, -8.08742052e-003, -4.17022106e-003,\n",
       "         1.25681106e-003, -1.60237835e-003,  7.27429239e-003,\n",
       "         1.41421155e-003, -2.19235754e-003,  5.14343507e-003,\n",
       "         1.20364771e-002, -1.26869831e-002,  6.19863789e-003,\n",
       "         5.53730763e-003,  8.63797716e-003,  7.63995333e-003,\n",
       "         1.27458105e-003,  9.22312668e-003, -2.69588864e-004,\n",
       "        -1.83651273e-003, -1.13123494e-002,  5.19114593e-003,\n",
       "        -2.61935160e-003,  9.74267927e-003, -1.79374266e-003,\n",
       "        -1.40456731e-002, -4.01353500e-003,  9.28502221e-003,\n",
       "         3.23387958e-003, -7.98765975e-004, -6.78332492e-004,\n",
       "        -6.98781554e-003, -1.27162298e-002,  2.88570516e-003,\n",
       "         9.39463964e-003,  2.00425616e-003, -9.67792994e-003,\n",
       "         1.02397283e-002,  8.90952276e-003, -2.89241932e-003,\n",
       "         1.94293242e-003,  6.84304576e-004,  2.23497047e-003,\n",
       "         5.58045013e-003, -8.83487988e-003, -1.37144252e-003,\n",
       "         9.77867334e-003, -8.21253032e-003,  3.78099511e-003,\n",
       "         1.07407232e-003,  6.54364885e-003,  1.98078776e-004,\n",
       "        -3.98847960e-003,  1.03805489e-002,  8.39627933e-003,\n",
       "        -1.24309264e-002, -2.54291792e-003,  7.20451724e-003,\n",
       "         4.38454357e-003, -9.17514219e-003,  1.58648071e-002,\n",
       "         4.81214822e-003, -4.67562507e-003,  1.43030336e-003,\n",
       "        -1.17901111e-002, -1.33558248e-002,  8.17434925e-003,\n",
       "         1.07209130e-002,  1.04359338e-002, -3.47284718e-003,\n",
       "        -1.30289019e-003,  1.66256596e-002,  4.10967235e-003,\n",
       "         1.15466190e-002, -1.47608359e-002, -1.23796618e-002,\n",
       "        -1.57501110e-002,  1.29182812e-002, -1.15802774e-002,\n",
       "         1.18643693e-002, -3.56842430e-003, -1.13548631e-002,\n",
       "        -4.17674259e-003,  7.49445138e-003,  8.88592324e-003,\n",
       "        -4.74043226e-003, -6.61738984e-003, -1.33745972e-002,\n",
       "         9.21069401e-003, -1.32606140e-002, -3.56315774e-003,\n",
       "        -1.16571908e-002,  2.30547735e-003,  1.03456430e-002,\n",
       "        -3.08616969e-003,  1.93038710e-003,  8.86334248e-003,\n",
       "        -8.78628812e-003,  2.54292149e-003, -5.58450531e-003,\n",
       "        -5.14763813e-003, -1.29731080e-002, -1.21834237e-002,\n",
       "        -7.17428945e-003, -1.06428544e-003,  2.11283254e-003,\n",
       "         6.31434707e-003, -9.92580871e-003,  4.39917699e-003,\n",
       "        -8.67659849e-003,  6.56924520e-003, -1.58723373e-002,\n",
       "        -6.60751745e-003,  5.17201496e-003, -1.50862409e-002,\n",
       "        -3.43471895e-003, -5.66105504e-003, -1.04182962e-002,\n",
       "         9.56907355e-003, -9.62789411e-003, -9.18662045e-003,\n",
       "        -4.47156188e-003, -3.02234454e-003, -3.54420107e-003,\n",
       "         6.99361169e-004, -8.40440228e-003,  1.09556506e-002,\n",
       "        -2.58792239e-003, -3.80126742e-003,  1.25757579e-002,\n",
       "         7.53498779e-003,  6.95889455e-003, -7.66151962e-003,\n",
       "        -1.02864040e-002,  4.91235246e-003,  4.41915930e-003,\n",
       "        -7.93944972e-003, -3.08633167e-060, -4.31279263e-204,\n",
       "        -3.52518199e-036,  6.13356354e-003, -6.52393647e-004,\n",
       "         1.28482254e-004,  3.23369141e-003,  1.06712667e-002,\n",
       "        -7.98488502e-003,  9.05943219e-004,  1.06063635e-002,\n",
       "        -8.82289368e-003, -3.68756276e-057, -2.47251599e-072,\n",
       "        -4.68967693e-003, -9.63951397e-003,  8.70571412e-003,\n",
       "         5.18873952e-003, -2.40074664e-003,  9.83830477e-003,\n",
       "        -1.86383425e-003, -1.03858909e-002,  9.96371013e-003,\n",
       "        -3.02210606e-003,  3.10544951e-003, -8.31478153e-004,\n",
       "         1.04330429e-002, -1.09366593e-002, -3.32086770e-106,\n",
       "         1.97893702e-158, -9.05076560e-037, -9.88037976e-003,\n",
       "        -1.37315873e-002,  7.18738866e-003, -4.07368296e-003,\n",
       "        -7.34555177e-003, -4.47495658e-003, -1.43569915e-003,\n",
       "         9.42865632e-003, -9.97470537e-003,  1.04684157e-111,\n",
       "        -5.41427142e-144, -5.80636610e-003,  9.93434127e-003,\n",
       "         8.73438964e-003, -7.31123863e-003,  1.10411016e-002,\n",
       "         3.17953301e-003,  2.41971125e-003,  1.76688628e-003,\n",
       "         5.93456322e-003, -2.03208926e-003, -7.84456971e-003,\n",
       "        -1.00536273e-002,  8.65057757e-003, -3.15093856e-004,\n",
       "         4.06950428e-135,  1.17888755e-184,  5.90481357e-037,\n",
       "        -2.53573403e-003,  7.74724181e-003, -1.18473674e-002,\n",
       "         2.06347553e-003, -1.00088720e-002,  1.46206897e-002,\n",
       "        -2.57217217e-003, -3.70105063e-004,  1.42418795e-002,\n",
       "         3.52946013e-193, -8.98768742e-144,  6.06090617e-003,\n",
       "        -1.33419621e-002,  1.23980754e-002, -5.09729573e-003,\n",
       "         7.69381737e-003, -1.86676693e-003,  1.41283161e-003,\n",
       "        -3.41338090e-003,  7.83258179e-003, -1.11196952e-003,\n",
       "        -1.13968770e-002,  3.12888041e-003, -6.07614704e-003,\n",
       "         1.67173493e-025,  6.18924171e-223, -6.51015423e-143,\n",
       "         8.44966374e-003,  3.74935360e-004,  4.95817412e-003,\n",
       "        -1.45826201e-003,  4.98383337e-003, -5.10008760e-003,\n",
       "         1.00597110e-002, -2.71410749e-003, -4.14339054e-003,\n",
       "         5.69603379e-003, -7.28613379e-195,  8.47195883e-144,\n",
       "         6.70872944e-003,  5.81362774e-004,  5.98666723e-003,\n",
       "         5.41880526e-003,  8.41297047e-003,  1.05114591e-002,\n",
       "        -8.35620573e-003,  8.92639382e-003,  2.80671447e-003,\n",
       "         7.98877925e-003, -6.00375368e-003, -1.08962146e-002,\n",
       "         9.00779622e-003,  9.34827794e-162,  6.21328645e-223,\n",
       "         9.93769370e-111,  5.84471741e-003, -1.08108087e-002,\n",
       "        -2.00801141e-003, -1.32677846e-002,  6.71042013e-003,\n",
       "        -1.47158528e-002, -4.27847191e-003,  9.99245995e-003,\n",
       "        -2.48152525e-003, -5.09617101e-042, -7.96872450e-216,\n",
       "         2.14423766e-144,  4.28344778e-003, -6.59151156e-003,\n",
       "        -1.72005716e-003, -2.41771728e-003,  4.82464625e-004,\n",
       "         1.07555942e-002, -5.90899039e-003, -6.21549032e-003,\n",
       "        -1.83854035e-003, -1.16510082e-002, -9.96845528e-003,\n",
       "        -2.87369105e-003, -1.18216505e-002,  5.50054006e-174,\n",
       "         2.67944270e-223, -3.98509947e-051,  2.31897523e-003,\n",
       "         1.68757273e-004,  2.51804543e-003,  2.25163916e-003,\n",
       "         1.03816220e-002,  6.67345885e-003, -9.36539221e-003,\n",
       "         3.83586804e-003,  3.00127066e-003, -2.56300449e-107,\n",
       "        -1.20483402e-223,  1.19448246e-143,  1.15899055e-002,\n",
       "        -1.40945847e-003, -3.62827074e-003, -6.63451571e-003,\n",
       "         1.40244547e-003,  9.04025452e-003,  8.34236430e-003,\n",
       "         2.28040457e-003, -1.34658114e-002,  8.12508252e-003,\n",
       "         7.81399477e-003,  1.20212901e-003,  2.81688131e-022,\n",
       "         5.38871731e-203,  6.64436108e-223,  2.63337392e-027,\n",
       "         1.06077866e-002,  1.24346654e-003, -1.34481644e-002,\n",
       "        -6.47458492e-003, -8.93384777e-005, -7.11612669e-003,\n",
       "         3.63523054e-004,  8.58236347e-003, -2.32005976e-003,\n",
       "        -2.24429739e-140,  1.54547570e-223, -8.41514434e-107,\n",
       "         1.04551033e-002,  5.14401984e-003, -8.07884697e-003,\n",
       "         1.99914754e-003,  1.77626165e-002, -2.79999058e-003,\n",
       "         1.00838436e-002,  4.29481259e-003, -1.10676955e-002,\n",
       "        -1.15576254e-002, -1.14452133e-002,  1.56030088e-003,\n",
       "        -1.37511086e-143, -7.45514704e-223,  6.05885101e-190,\n",
       "        -2.91440904e-016,  8.03933867e-003,  5.41111535e-003,\n",
       "        -1.43961048e-002, -8.14486664e-003,  2.01644989e-003,\n",
       "         6.19328936e-003, -5.99046655e-003,  4.95037374e-003,\n",
       "         1.14506710e-002, -6.74533235e-141,  2.46194797e-223,\n",
       "         3.70914830e-060, -9.28082787e-003, -2.05758526e-003,\n",
       "        -7.64331493e-003, -7.25253989e-003,  9.09425201e-003,\n",
       "         4.05893825e-003, -1.34047573e-002,  9.43135801e-003,\n",
       "        -6.95591333e-003, -1.71031284e-014, -1.60306211e-077,\n",
       "         1.16994782e-156, -7.75713770e-218, -1.59295366e-223,\n",
       "         5.94019186e-082, -6.62159703e-003, -1.39424202e-003,\n",
       "         5.71127219e-003, -1.08380383e-002,  6.80072359e-003,\n",
       "        -3.65922458e-003,  1.14088477e-003, -6.39699294e-003,\n",
       "        -1.58514833e-002,  7.25807582e-004, -1.06560174e-140,\n",
       "         1.05154141e-222,  6.39180835e-077,  1.02157853e-002,\n",
       "         2.46080888e-003,  2.51098651e-003,  1.22063234e-043,\n",
       "         1.25541663e-045, -9.73145783e-103, -1.08384179e-128,\n",
       "         2.10303391e-133, -1.39589549e-212,  2.45491819e-214,\n",
       "        -1.02994167e-205,  9.88993838e-158, -1.03653724e-211,\n",
       "         2.86648666e-221, -3.47228169e-037,  6.71152989e-003,\n",
       "         1.22824625e-002,  4.88327178e-003,  9.70712978e-003,\n",
       "         1.93092633e-003, -5.83201157e-003, -2.11714178e-003,\n",
       "        -4.76855972e-003, -5.08849251e-003,  5.52905305e-003,\n",
       "        -1.79023889e-132, -1.91723130e-224,  8.49661216e-208,\n",
       "        -3.43823046e-182, -4.05219679e-182,  4.53328464e-182,\n",
       "         5.68464392e-222, -8.55038096e-223, -1.80081711e-219,\n",
       "         5.70036046e-213,  1.73779570e-174, -1.08328174e-127,\n",
       "        -2.89276706e-081,  1.82578559e-026,  1.12107205e-006,\n",
       "         3.37767404e-205,  3.58156814e-219,  5.97077021e-004,\n",
       "         3.82668057e-004, -4.60664005e-003, -8.43206635e-003,\n",
       "         1.03592414e-002, -5.99557059e-003,  3.63434092e-003,\n",
       "        -8.77804637e-003, -4.67016179e-003, -3.95124967e-004,\n",
       "         8.82261204e-003, -1.44006307e-003, -2.72822551e-105,\n",
       "        -2.27897916e-156, -2.59491734e-156, -1.28044706e-157,\n",
       "        -2.08744307e-156,  5.92979602e-156, -3.13286665e-087,\n",
       "        -7.27866510e-051,  3.49163574e-003, -5.10120794e-003,\n",
       "         8.42858021e-003,  4.66579573e-004,  9.23623594e-004,\n",
       "        -5.24600405e-091,  1.00344336e-222, -1.57358626e-193,\n",
       "        -3.75929753e-003,  6.68658554e-003,  6.07704699e-003,\n",
       "         2.77024762e-003, -6.15557802e-005, -3.13639378e-003,\n",
       "         5.61818375e-003, -4.45309842e-004,  3.12432569e-003,\n",
       "         5.96988554e-003,  7.86192398e-003,  3.12413087e-003,\n",
       "         7.14032343e-005, -1.10859123e-002, -5.06740197e-003,\n",
       "        -1.28551277e-002, -2.51164140e-003, -1.43782518e-004,\n",
       "        -1.72443292e-002,  1.18272615e-002, -2.43755397e-003,\n",
       "        -5.22582536e-003, -3.30497674e-003,  1.24481548e-003,\n",
       "        -6.52079487e-003,  4.45876582e-149, -6.65197949e-223,\n",
       "         1.76696211e-121, -1.54160172e-002, -8.06100416e-003,\n",
       "        -5.24146548e-003,  6.00788679e-003, -7.97733554e-003,\n",
       "        -9.01264948e-003,  3.29202095e-003,  9.91239638e-003,\n",
       "         1.37767164e-002,  2.22730011e-003,  5.61708596e-003,\n",
       "         1.52370492e-002, -9.88003997e-003, -2.26496820e-003,\n",
       "         3.12622512e-003, -9.37551817e-003,  1.12964279e-002,\n",
       "        -1.03451290e-002,  1.13045058e-003,  7.16573086e-003,\n",
       "         8.04489159e-004, -7.76364160e-003,  3.62541828e-003,\n",
       "        -6.02507651e-004,  2.15804269e-003,  4.84020230e-149,\n",
       "        -4.15574368e-223, -3.14108714e-052,  5.88354683e-003,\n",
       "         1.03599775e-002, -1.15654327e-003, -3.51773544e-003,\n",
       "        -9.03598174e-003, -2.72910240e-003,  8.57353375e-003,\n",
       "        -5.03702689e-003, -1.34858457e-002,  9.66691011e-003,\n",
       "         1.11248835e-002,  2.51616139e-003, -3.88740247e-003,\n",
       "         4.82798859e-003, -1.09228846e-002,  4.78305621e-003,\n",
       "         6.46564175e-003, -4.59705185e-003,  5.61391655e-005,\n",
       "         5.43946543e-003, -8.21397772e-003, -6.04706762e-003,\n",
       "         9.36840475e-003, -8.41608902e-003, -6.22762580e-003,\n",
       "        -2.44762186e-149, -3.39277141e-223,  1.54614410e-051,\n",
       "        -8.73555931e-003,  1.28567151e-002, -4.40702549e-003,\n",
       "        -2.56836306e-003, -7.07885993e-003,  1.52368601e-003,\n",
       "         1.05057750e-002,  5.98741284e-003,  4.44954987e-004,\n",
       "        -2.99803574e-003, -2.72905542e-003, -8.30779911e-003,\n",
       "         9.47688552e-003,  2.83569318e-003, -1.25707790e-002,\n",
       "        -6.75598056e-003, -6.21325769e-003,  5.21392623e-003,\n",
       "         7.75296388e-003,  8.23953410e-003, -6.62389194e-003,\n",
       "         2.14366110e-003, -7.66193285e-003, -9.48843204e-003,\n",
       "         1.19616963e-002,  7.51996417e-149,  1.85126212e-223,\n",
       "         4.60931821e-084,  1.35360998e-002, -3.50886753e-003,\n",
       "        -4.08226895e-003,  5.41834264e-003, -1.69130012e-003,\n",
       "         1.31745650e-002,  8.59824501e-003, -6.47188956e-003,\n",
       "         1.83048227e-007,  4.13130495e-003, -1.33702184e-003,\n",
       "        -2.39369925e-003,  1.29010451e-003, -6.93965395e-003,\n",
       "        -6.87024632e-003,  8.15899487e-003,  3.78067987e-003,\n",
       "        -2.12607162e-003, -9.30829865e-003, -6.29151346e-003,\n",
       "         5.68585537e-003,  7.56721492e-003, -1.06500827e-002,\n",
       "        -9.76443712e-003,  2.20031320e-003,  6.97429010e-149,\n",
       "         6.07208330e-223,  6.22389390e-086,  4.93716473e-003,\n",
       "         5.69918143e-003, -2.23943011e-003,  1.58356533e-002,\n",
       "         8.50525849e-003, -3.47689693e-003, -2.79815290e-003,\n",
       "         5.98716347e-003,  6.49074542e-004, -9.13269369e-003,\n",
       "         4.62700006e-005,  1.06054735e-002, -8.30931315e-003,\n",
       "         7.74584354e-003,  2.82102468e-004,  9.52701584e-003,\n",
       "        -1.29729643e-003,  5.25144811e-003,  2.34042087e-004,\n",
       "         1.62178103e-002,  1.13439912e-002, -5.39169885e-004,\n",
       "         8.68811644e-003,  1.09203170e-003,  9.74427688e-003,\n",
       "         6.45306286e-149,  9.24308866e-223, -3.17661094e-135,\n",
       "        -5.37771426e-004, -3.18468886e-004, -8.37460435e-003,\n",
       "         7.03297097e-003,  5.17360650e-003,  8.78636792e-003,\n",
       "         1.22118345e-003,  5.02444118e-003,  9.27316336e-003,\n",
       "        -1.83426174e-003, -9.01975490e-003, -9.04282728e-003,\n",
       "         5.14346470e-003,  6.80057206e-004, -3.09850489e-003,\n",
       "        -6.93774495e-003,  9.57495666e-003, -5.83260540e-003,\n",
       "        -9.62599075e-003,  1.85844152e-003, -8.51320030e-004,\n",
       "         4.66394809e-003, -3.29332555e-003,  1.60880267e-003,\n",
       "        -3.39145691e-003,  1.50935246e-149, -2.19672020e-226,\n",
       "        -5.54994096e-135,  3.26195605e-004,  1.15886899e-003,\n",
       "         3.06067044e-003,  2.95483571e-003,  7.78380860e-003,\n",
       "        -3.72799667e-003,  8.07349231e-003,  3.15636333e-003,\n",
       "        -2.64263913e-003,  1.04166534e-004, -1.49888761e-003,\n",
       "        -1.13735107e-003,  1.38698441e-002, -1.20039648e-003,\n",
       "         4.90722466e-003, -6.61792535e-003,  1.22943560e-003,\n",
       "         9.71178596e-003,  8.87518741e-003,  3.91722221e-003,\n",
       "        -7.60128179e-004,  1.13020584e-002, -5.08715400e-003,\n",
       "        -9.50967983e-003, -2.81131606e-003, -1.13508463e-085,\n",
       "         1.21387877e-222, -3.54889913e-135,  3.75496884e-004,\n",
       "        -3.34466592e-003,  1.95846422e-002,  7.06707154e-003,\n",
       "        -7.94310747e-003,  4.62543825e-003,  1.17123557e-003,\n",
       "         2.97883784e-003, -3.20168814e-003,  1.12772294e-002,\n",
       "         5.38415072e-003,  7.84476232e-004, -8.47547456e-003,\n",
       "        -2.51046597e-003, -3.73222616e-003, -8.28457395e-003,\n",
       "         3.77724679e-003,  1.08192165e-003,  2.39641636e-003,\n",
       "        -5.55508763e-003, -1.33817698e-002,  3.59817765e-003,\n",
       "         5.35503695e-003, -6.00100303e-003, -8.74152908e-003,\n",
       "         5.93795195e-003,  1.55718118e-003, -5.13213729e-003,\n",
       "         8.55893767e-003,  1.58292933e-003, -1.12500676e-002,\n",
       "        -1.35226485e-002, -1.11984864e-002,  2.05480057e-003,\n",
       "        -1.01465768e-002,  6.71794098e-003,  1.13527056e-003,\n",
       "        -9.79169069e-005,  9.99212602e-003, -2.82946219e-004,\n",
       "         4.43869988e-003, -8.06402067e-003, -7.57702282e-003,\n",
       "         1.91595510e-003, -9.05383573e-003, -3.41483823e-004,\n",
       "        -6.03753954e-003, -5.20499894e-003,  5.39912907e-003,\n",
       "        -3.27288384e-003, -1.18882078e-002,  4.25475139e-003,\n",
       "         1.57402843e-003, -2.69237247e-003, -4.44937219e-003,\n",
       "         4.98214437e-003, -6.13620391e-003, -5.25477984e-003,\n",
       "         7.89501236e-003, -4.25578242e-003, -1.23044122e-003,\n",
       "        -3.85073762e-003, -1.02411576e-002, -1.38250422e-002,\n",
       "        -1.01747058e-002,  7.09405804e-003, -1.25025299e-002,\n",
       "        -1.04646511e-003, -5.13888019e-003,  1.06008584e-002,\n",
       "        -8.09768653e-003, -9.59276416e-004,  3.43540327e-003,\n",
       "         2.85277009e-003, -1.27091353e-002,  1.16344705e-002,\n",
       "         1.40627699e-002, -3.63291057e-003,  1.03528924e-002,\n",
       "        -1.83518280e-003, -6.55141571e-003,  5.49822947e-004,\n",
       "        -8.27689658e-003, -5.60972372e-003, -4.24098824e-003,\n",
       "        -7.97299340e-003, -2.75117319e-003, -1.36086564e-002,\n",
       "        -1.10660141e-002, -9.90665244e-003,  7.74356442e-003,\n",
       "         5.75498334e-003])}"
      ]
     },
     "execution_count": 438,
     "metadata": {},
     "output_type": "execute_result"
    }
   ],
   "source": [
    "grad_parameters(train_img[2],train_lab[2],init_parameters())"
   ]
  },
  {
   "cell_type": "code",
   "execution_count": 439,
   "metadata": {},
   "outputs": [
    {
     "name": "stdout",
     "output_type": "stream",
     "text": [
      "-1.1023339905290308e-07\n",
      "5.885452944442982e-07\n",
      "-6.160968886032014e-07\n",
      "-7.653179533509413e-08\n",
      "-1.4405931919592163e-07\n",
      "-2.774377864597777e-09\n",
      "-6.439364665933311e-07\n",
      "1.865585188241814e-08\n",
      "-1.056000562306425e-07\n",
      "9.946794527794511e-09\n"
     ]
    }
   ],
   "source": [
    "# b1 \n",
    "h=0.00001\n",
    "for i in range(10):\n",
    "    img_i=np.random.randint(train_num)\n",
    "    test_parameters=init_parameters()\n",
    "    derivative=grad_parameters(train_img[img_i],train_lab[img_i],test_parameters)['b1']\n",
    "    value1=sqr_loss(train_img[img_i],train_lab[img_i],test_parameters)\n",
    "    test_parameters[1]['b'][i]+=h\n",
    "    value2=sqr_loss(train_img[img_i],train_lab[img_i],test_parameters)\n",
    "    print(derivative[i]-(value2-value1)/h)"
   ]
  },
  {
   "cell_type": "code",
   "execution_count": 440,
   "metadata": {},
   "outputs": [
    {
     "data": {
      "text/plain": [
       "9.304084420236336e-06"
      ]
     },
     "execution_count": 440,
     "metadata": {},
     "output_type": "execute_result"
    }
   ],
   "source": [
    "# w1\n",
    "grad_list=[]\n",
    "h=0.0001\n",
    "for i in range(784):\n",
    "    for j in range(10):\n",
    "        img_i=np.random.randint(train_num)\n",
    "        test_parameters=init_parameters()\n",
    "        derivative=grad_parameters(train_img[img_i],train_lab[img_i],test_parameters)['w1']\n",
    "        value1=sqr_loss(train_img[img_i],train_lab[img_i],test_parameters)\n",
    "        test_parameters[1]['w'][i][j]+=h\n",
    "        value2=sqr_loss(train_img[img_i],train_lab[img_i],test_parameters)\n",
    "        grad_list.append(derivative[i][j]-(value2-value1)/h)\n",
    "np.abs(grad_list).max()"
   ]
  },
  {
   "cell_type": "code",
   "execution_count": 441,
   "metadata": {},
   "outputs": [
    {
     "data": {
      "text/plain": [
       "1.0776641798373662e-06"
      ]
     },
     "execution_count": 441,
     "metadata": {},
     "output_type": "execute_result"
    }
   ],
   "source": [
    "# b0 \n",
    "grad_list=[]\n",
    "h=0.001\n",
    "for i in range(784):\n",
    "    img_i=np.random.randint(train_num)\n",
    "    test_parameters=init_parameters()\n",
    "    derivative=grad_parameters(train_img[img_i],train_lab[img_i],test_parameters)['b0']\n",
    "    value1=sqr_loss(train_img[img_i],train_lab[img_i],test_parameters)\n",
    "    test_parameters[0]['b'][i]+=h\n",
    "    value2=sqr_loss(train_img[img_i],train_lab[img_i],test_parameters)\n",
    "    grad_list.append(derivative[i]-(value2-value1)/h)\n",
    "np.abs(grad_list).max()"
   ]
  },
  {
   "cell_type": "code",
   "execution_count": 442,
   "metadata": {},
   "outputs": [],
   "source": [
    "def valid_loss(parameters):\n",
    "    loss_accu=0\n",
    "    for img_i in range(valid_num):\n",
    "        loss_accu+=sqr_loss(valid_img[img_i],valid_lab[img_i],parameters)\n",
    "    return loss_accu\n",
    "def valid_accuracy(parameters):\n",
    "    correct=[predict(valid_img[img_i],parameters).argmax()==valid_lab[img_i] for img_i in range(valid_num)]\n",
    "    print('validation accuracy : {}'.format(correct.count(True)/len(correct)))"
   ]
  },
  {
   "cell_type": "code",
   "execution_count": 443,
   "metadata": {},
   "outputs": [
    {
     "data": {
      "text/plain": [
       "1503.6989970176978"
      ]
     },
     "execution_count": 443,
     "metadata": {},
     "output_type": "execute_result"
    }
   ],
   "source": [
    "valid_loss(parameters)"
   ]
  },
  {
   "cell_type": "code",
   "execution_count": 444,
   "metadata": {},
   "outputs": [
    {
     "name": "stdout",
     "output_type": "stream",
     "text": [
      "validation accuracy : 0.0717\n"
     ]
    }
   ],
   "source": [
    "valid_accuracy(init_parameters())"
   ]
  },
  {
   "cell_type": "code",
   "execution_count": 402,
   "metadata": {},
   "outputs": [],
   "source": [
    "batch_size=100\n",
    "def train_batch(current_batch,parameters):\n",
    "    grad_accu=grad_parameters(train_img[current_batch*batch_size+0],train_lab[current_batch*batch_size+0],parameters)\n",
    "    for img_i in range(1,batch_size):\n",
    "        grad_tmp=grad_parameters(train_img[current_batch*batch_size+img_i],train_lab[current_batch*batch_size+img_i],parameters)\n",
    "        for key in grad_accu.keys():\n",
    "            grad_accu[key]+=grad_tmp[key]\n",
    "    for key in grad_accu.keys():\n",
    "        grad_accu[key]/=batch_size\n",
    "    return grad_accu"
   ]
  },
  {
   "cell_type": "code",
   "execution_count": 388,
   "metadata": {
    "scrolled": true
   },
   "outputs": [
    {
     "data": {
      "text/plain": [
       "{'w1': array([[ 1.13231842e-05,  4.32359646e-07,  7.03147055e-06, ...,\n",
       "          5.03579828e-06,  2.99710544e-06,  2.11672234e-08],\n",
       "        [ 1.71797125e-05,  6.55982831e-07,  1.06682573e-05, ...,\n",
       "          7.64039208e-06,  4.54725535e-06,  3.21152431e-08],\n",
       "        [ 1.09527246e-07,  4.18214176e-09,  6.80142259e-08, ...,\n",
       "          4.87104254e-08,  2.89904942e-08,  2.04746973e-10],\n",
       "        ...,\n",
       "        [-6.25173716e-06, -2.38713671e-07, -3.88220355e-06, ...,\n",
       "         -2.78035637e-06, -1.65475675e-06, -1.16868113e-08],\n",
       "        [ 1.12922027e-05,  4.31176662e-07,  7.01223168e-06, ...,\n",
       "          5.02201978e-06,  2.98890503e-06,  2.11093075e-08],\n",
       "        [ 3.30941818e-06,  1.26365415e-07,  2.05508240e-06, ...,\n",
       "          1.47180882e-06,  8.75961662e-07,  6.18652782e-09]]),\n",
       " 'b1': array([ 1.39391816e-04,  5.32247779e-06,  8.65595257e-05,  1.50794810e-01,\n",
       "         8.45764069e-08, -1.51134347e-01,  9.03034212e-06,  6.19921974e-05,\n",
       "         3.68952729e-05,  2.60574911e-07]),\n",
       " 'b0': array([-2.77165487e-002, -1.65399407e-002, -8.75548489e-004,\n",
       "        -9.96933943e-003, -8.96801247e-003,  1.51378069e-002,\n",
       "        -6.75493249e-003, -8.21250336e-003,  8.59857111e-003,\n",
       "        -4.71038430e-003,  8.41073299e-003, -8.32253789e-003,\n",
       "        -4.47101062e-003, -2.43685548e-002,  1.49257864e-002,\n",
       "        -7.26439887e-003,  1.04072959e-002, -9.32143662e-003,\n",
       "         9.09040139e-003,  1.33272419e-003, -2.75129700e-003,\n",
       "         8.64476258e-003,  1.30109610e-003, -1.46469797e-002,\n",
       "        -9.89982796e-004, -1.08549294e-002,  7.65376151e-003,\n",
       "        -9.43935934e-003, -1.71135798e-002, -8.11124393e-003,\n",
       "         1.17560140e-002,  1.36150208e-002, -3.99678236e-004,\n",
       "        -2.99519034e-003,  1.14695325e-002, -2.48019108e-002,\n",
       "        -1.03680100e-002,  6.37820768e-003, -9.48044658e-003,\n",
       "         5.89129614e-003,  8.73047778e-005,  3.51483217e-003,\n",
       "        -2.43062659e-002, -1.85372346e-002, -1.83807084e-003,\n",
       "         5.50367051e-003, -1.81865147e-002, -1.36884657e-002,\n",
       "         8.52176782e-003, -7.29626113e-003,  9.17348615e-003,\n",
       "         7.51218907e-003, -1.66469439e-002,  7.12648676e-004,\n",
       "         4.99612350e-003, -1.20708653e-002, -1.39798374e-002,\n",
       "        -1.42624949e-002, -1.73584826e-002, -7.22844925e-003,\n",
       "        -9.83454886e-003,  1.90816074e-002,  1.41412131e-002,\n",
       "         1.36796922e-002,  2.89126300e-003, -1.31223785e-002,\n",
       "        -9.04257965e-003, -4.96446148e-004,  1.17194806e-002,\n",
       "         1.82680368e-002,  6.36872110e-003, -5.17480734e-003,\n",
       "        -1.13819687e-002,  1.49199792e-002,  5.60755543e-003,\n",
       "         5.16030804e-003, -4.58194855e-003, -9.21983481e-004,\n",
       "        -2.44567138e-003, -6.99700634e-003, -1.84184745e-002,\n",
       "         6.55365102e-003, -1.70299729e-002,  8.79744022e-003,\n",
       "         5.25133623e-003, -1.17228025e-002, -9.22955292e-003,\n",
       "        -1.53583956e-002,  4.93054020e-003,  1.00451161e-002,\n",
       "        -8.43373232e-003, -2.52228856e-002,  2.00079379e-003,\n",
       "         2.03525991e-002,  6.57483111e-003,  1.48245062e-002,\n",
       "         4.99196820e-002,  4.88719849e-002,  5.88568824e-002,\n",
       "         3.34082979e-002,  2.89234457e-002,  1.46602082e-002,\n",
       "         2.03255897e-002,  1.15723833e-003,  1.91869608e-002,\n",
       "         3.29879003e-002,  6.88459873e-003, -2.45142770e-002,\n",
       "        -2.32520530e-002,  4.44339496e-003,  1.28068776e-002,\n",
       "        -4.14592368e-003,  2.15794033e-002, -2.04263949e-003,\n",
       "        -9.46389921e-003, -1.13410833e-002,  5.49513230e-003,\n",
       "         2.68066783e-002,  1.86579121e-002,  5.55732386e-002,\n",
       "         2.40963035e-002,  3.31727553e-002,  3.17593205e-002,\n",
       "         3.96599534e-002,  4.22161116e-002,  2.82988024e-002,\n",
       "         8.29008986e-003,  6.19899892e-003,  1.65298362e-002,\n",
       "        -2.89764512e-002, -8.64240050e-003,  1.15979006e-002,\n",
       "         1.39321865e-002, -1.94517457e-002, -2.37596419e-002,\n",
       "        -1.80740620e-002, -2.32389238e-002, -1.41468344e-002,\n",
       "        -3.26636200e-003, -7.77964993e-003,  2.74015505e-002,\n",
       "         9.45290524e-003, -4.16445428e-003,  1.64722944e-002,\n",
       "         6.97579817e-003,  6.19755118e-002,  3.92055320e-002,\n",
       "         3.06851790e-002,  4.85096189e-002,  2.14552527e-002,\n",
       "         1.72486410e-002,  2.81137658e-002,  6.52237336e-004,\n",
       "         5.89200435e-017, -1.41177219e-018,  2.90263110e-017,\n",
       "         6.38367512e-111,  9.90661914e-120, -7.25769012e-154,\n",
       "        -2.63564404e-024, -1.37108432e-147, -3.07067633e-223,\n",
       "        -5.20595130e-216, -1.12790535e-111, -3.23562061e-002,\n",
       "        -3.52804564e-002,  8.55868435e-003, -7.89969065e-003,\n",
       "        -2.12201625e-002,  9.50263949e-003,  7.19711986e-003,\n",
       "         2.80635226e-002,  3.85089857e-002,  7.89751268e-002,\n",
       "         3.45568782e-002,  1.22956438e-002,  1.54591530e-027,\n",
       "         1.46005844e-032,  2.58183739e-083,  1.88118803e-135,\n",
       "         3.21769492e-149,  1.83059870e-221,  3.95468442e-221,\n",
       "         6.72173181e-221,  8.72135299e-222, -2.16062916e-221,\n",
       "        -3.75054810e-197, -7.95333355e-152, -2.87855202e-221,\n",
       "        -2.62867041e-212, -3.86163464e-171, -4.15696814e-057,\n",
       "        -4.57368691e-002, -4.89910905e-002, -5.29552957e-003,\n",
       "         3.40443139e-003, -1.76946824e-003, -1.34800759e-002,\n",
       "        -1.39545456e-002,  1.74378606e-002,  7.78180449e-002,\n",
       "         6.29919613e-002,  4.74235355e-002, -1.77810762e-045,\n",
       "        -1.50262888e-209,  2.33220507e-221,  1.50668524e-221,\n",
       "        -2.69283309e-221,  1.29162294e-221,  7.37078548e-221,\n",
       "         2.82876839e-221,  1.91590156e-221,  6.99288881e-222,\n",
       "        -2.46132462e-220,  9.48200677e-084, -1.02028930e-072,\n",
       "        -7.40640354e-073, -2.47953365e-051, -2.08967015e-035,\n",
       "        -5.79313995e-002, -7.32766487e-002, -5.42572223e-002,\n",
       "        -1.62072554e-002,  9.62915106e-003,  1.46867484e-002,\n",
       "        -2.17623681e-002, -2.52878948e-002,  1.24056557e-003,\n",
       "         5.14181398e-002,  5.50269116e-002,  4.68079025e-002,\n",
       "         3.23345994e-017, -5.33683874e-192, -5.76618178e-222,\n",
       "        -1.06752445e-221, -2.09332415e-221, -1.07207263e-221,\n",
       "         2.20498634e-221,  3.16592727e-173,  2.91887546e-159,\n",
       "         5.45745835e-216,  1.56213737e-211,  2.01530686e-003,\n",
       "        -2.23199938e-002,  1.17550324e-002, -8.73054210e-003,\n",
       "        -4.73387735e-002, -7.30175619e-002, -1.20323075e-001,\n",
       "        -7.47923158e-002, -3.40629333e-002, -1.15764005e-002,\n",
       "        -2.32132050e-002, -1.91761283e-002, -1.08310128e-002,\n",
       "         7.55631953e-003,  7.35758686e-002,  7.52219668e-002,\n",
       "         3.54001949e-002, -4.49850314e-003, -2.08029027e-071,\n",
       "        -6.29435200e-137, -2.34506912e-094, -8.93618669e-221,\n",
       "        -2.01078597e-221,  3.13140724e-180,  1.44842751e-010,\n",
       "         9.33985999e-002,  2.24779796e-038,  7.81127801e-135,\n",
       "         4.07153640e-002,  3.72185220e-002, -1.01875148e-002,\n",
       "        -3.53228366e-003, -4.10406540e-002, -9.59454626e-002,\n",
       "        -1.32960983e-001, -1.08890277e-001, -4.48095071e-002,\n",
       "        -1.90296076e-002,  1.10430567e-002, -2.43107582e-002,\n",
       "         3.68737534e-003,  3.32681433e-002, -4.38341405e-004,\n",
       "         1.98272829e-002, -2.87265375e-003, -6.27751880e-002,\n",
       "        -4.09422279e-002, -3.04107997e-013, -3.62735243e-002,\n",
       "        -6.31119200e-135, -3.98421562e-221, -9.92339756e-080,\n",
       "         8.80518652e-003,  5.70004121e-002,  5.20507880e-002,\n",
       "         5.10510423e-002,  4.26790440e-002,  7.39643522e-002,\n",
       "         7.78680426e-002,  4.49514731e-002,  9.18976364e-003,\n",
       "        -5.96606615e-002, -9.11161349e-002, -6.06381805e-002,\n",
       "        -3.35270771e-002,  6.53319434e-004, -6.26348926e-004,\n",
       "         1.32468191e-002, -2.66300084e-003,  1.84118622e-002,\n",
       "         3.38335571e-003, -3.94116701e-002, -4.26135102e-002,\n",
       "        -5.42204949e-002, -5.52042071e-002, -2.85487950e-002,\n",
       "        -2.50946038e-002, -8.22165097e-122, -9.04269689e-221,\n",
       "        -7.52900631e-167,  3.91407485e-003,  4.82464022e-002,\n",
       "         1.81576153e-002,  3.17630825e-002,  3.57021923e-002,\n",
       "         1.54338232e-002,  5.74233978e-002,  6.76663776e-002,\n",
       "         5.81884819e-002,  1.52496135e-002, -1.63750157e-002,\n",
       "        -2.39666842e-002, -2.43059613e-002,  8.71706453e-003,\n",
       "        -1.51436608e-002, -9.34664228e-003,  1.60799203e-002,\n",
       "         1.08267350e-003,  6.56690307e-003, -3.78988551e-002,\n",
       "        -4.37559402e-002, -5.79164701e-002, -3.15075713e-002,\n",
       "        -2.84704022e-002, -6.99909904e-002, -9.23329397e-011,\n",
       "        -3.94496207e-166,  2.99177372e-221,  9.52950993e-063,\n",
       "         4.23137613e-002,  3.04204589e-002,  2.71715621e-002,\n",
       "         2.45615133e-002,  3.06698233e-002, -1.90476545e-002,\n",
       "         2.23706682e-002,  5.92308176e-002,  7.42215010e-002,\n",
       "         5.70757267e-002, -4.73196729e-003, -1.30085021e-002,\n",
       "        -1.49911632e-002,  1.61106770e-002,  2.06175547e-004,\n",
       "        -2.36834324e-003, -2.58033047e-002,  2.61993840e-003,\n",
       "        -3.76243715e-002, -2.10070319e-002, -5.26961718e-002,\n",
       "         8.21958587e-003, -1.86921795e-002, -2.14646734e-002,\n",
       "        -4.87811815e-002,  1.28086601e-031,  5.21789571e-211,\n",
       "         1.11490874e-196,  2.78448027e-140,  1.46775857e-095,\n",
       "         3.69925331e-002,  8.23767651e-003,  2.94088877e-002,\n",
       "        -1.96769266e-002, -1.02589418e-002,  9.00566068e-003,\n",
       "         2.54574942e-002,  2.99953503e-002,  2.67670994e-002,\n",
       "        -5.25336027e-003, -1.44838784e-004,  6.38418338e-003,\n",
       "        -6.49902480e-003, -1.93640656e-003, -1.50772820e-002,\n",
       "        -1.52631904e-003,  1.34019852e-002,  9.98165831e-003,\n",
       "        -1.90831145e-002, -2.80427943e-002, -4.21113527e-002,\n",
       "        -1.31970678e-002,  6.72439282e-003,  2.10537595e-003,\n",
       "        -4.51098832e-072,  9.38650224e-210,  4.85069778e-221,\n",
       "         4.34708648e-221,  5.66888938e-105,  4.12044541e-023,\n",
       "         1.69325996e-002, -1.13184719e-002, -1.44578068e-002,\n",
       "         2.49721762e-002,  1.98344621e-002,  2.47298527e-002,\n",
       "         1.86782629e-003, -6.00342139e-003,  1.27725754e-002,\n",
       "         1.03764956e-002,  1.71578588e-002, -1.14896630e-002,\n",
       "         1.25086424e-002, -1.38701214e-002,  1.14395278e-002,\n",
       "        -6.81576039e-004, -1.86027554e-002, -2.17790806e-002,\n",
       "        -1.65569324e-002, -4.55717502e-002, -1.67483647e-002,\n",
       "         8.82357032e-004,  6.44939302e-003,  7.89812196e-041,\n",
       "         4.34570900e-163, -2.83756085e-222, -8.73861057e-222,\n",
       "         8.26557643e-132,  5.94073786e-025,  2.47467978e-002,\n",
       "         1.44166336e-002,  1.17244189e-002,  2.83672863e-002,\n",
       "        -6.38662294e-003, -7.74250899e-003, -7.50210636e-004,\n",
       "        -1.56555880e-002,  7.41459227e-003, -6.56124733e-003,\n",
       "        -5.43283639e-003,  2.33214314e-002,  2.38644009e-002,\n",
       "         2.24011281e-002,  2.75628687e-002,  8.56491451e-003,\n",
       "        -9.20610842e-003, -1.02950456e-002, -1.44650490e-002,\n",
       "         4.92308299e-003,  4.87610752e-003,  2.45549539e-002,\n",
       "         2.20904204e-002,  1.21474724e-015, -4.16982604e-083,\n",
       "         9.70684155e-222,  9.77933289e-222,  5.22693866e-164,\n",
       "         2.59772763e-002, -2.27817254e-003,  4.50407215e-002,\n",
       "        -1.58536401e-002, -2.12649078e-002, -6.64750875e-003,\n",
       "         9.13824414e-004,  1.05767537e-003, -1.11035128e-002,\n",
       "        -8.34173661e-003,  1.16713153e-002,  3.02822266e-002,\n",
       "         1.94780503e-002,  2.57632083e-003, -3.14878878e-002,\n",
       "        -2.99130292e-003,  1.22265177e-003, -1.97009746e-003,\n",
       "        -4.00121279e-002, -1.31359984e-002, -4.43108492e-003,\n",
       "         9.79463706e-003,  2.80332345e-003,  3.51969523e-002,\n",
       "         1.62888417e-002,  3.22451491e-218, -2.29427373e-221,\n",
       "        -7.08618508e-218,  2.41346616e-057,  1.65413517e-002,\n",
       "         4.23686804e-002, -2.01257761e-002, -1.39094889e-002,\n",
       "        -1.03523074e-002,  1.55523634e-002,  1.98892681e-002,\n",
       "         1.44910781e-003, -2.36786141e-002,  9.47650609e-003,\n",
       "         2.99299221e-002,  3.19232530e-002, -1.49183334e-002,\n",
       "        -2.17962373e-002,  1.02792697e-002,  2.21868226e-003,\n",
       "        -2.30714016e-002, -6.52627995e-003, -2.37520056e-002,\n",
       "        -2.98584661e-002, -2.01564145e-002,  2.76345467e-042,\n",
       "         2.60069604e-115, -6.81731252e-162, -4.45178735e-222,\n",
       "         4.24378776e-222,  1.61465458e-181, -1.68036541e-003,\n",
       "         2.50653443e-002,  1.03487673e-002, -2.05205902e-002,\n",
       "        -6.08083982e-002, -1.09653715e-002,  1.08260675e-002,\n",
       "        -1.31274615e-002, -2.39275291e-002,  1.63440749e-002,\n",
       "         1.37841875e-002,  1.85303513e-002,  3.25107970e-002,\n",
       "         4.20900132e-003, -1.60963117e-002, -1.97520749e-002,\n",
       "        -1.72118479e-002,  4.51960935e-003,  5.43031592e-004,\n",
       "        -7.19873420e-003, -2.22250643e-035, -2.21127963e-130,\n",
       "        -1.75134409e-200, -2.71176307e-222,  2.76932985e-221,\n",
       "        -2.01399621e-221,  1.40736103e-219,  1.95909652e-160,\n",
       "         1.28085366e-002, -7.08289635e-003, -3.36702005e-003,\n",
       "        -3.67520550e-002, -5.08710753e-002,  1.23586634e-002,\n",
       "         4.58400984e-003, -3.03162858e-002, -9.59021445e-003,\n",
       "        -7.18610914e-003,  1.62089209e-002,  5.45086183e-002,\n",
       "         2.31004212e-002,  3.19493694e-002,  7.54676687e-003,\n",
       "        -1.21103803e-002, -1.86894307e-002, -2.98709341e-002,\n",
       "        -1.53040130e-022, -1.50208116e-100, -1.10947154e-193,\n",
       "        -3.17708061e-221, -5.57543450e-222, -1.84102258e-221,\n",
       "         1.52123396e-221,  6.56835691e-176,  1.16900760e-069,\n",
       "        -4.88989828e-003, -1.08352917e-002, -8.97305207e-003,\n",
       "        -2.66964738e-003, -2.13956613e-002, -4.08233460e-002,\n",
       "        -1.67035958e-003,  3.72251186e-003, -5.36952400e-003,\n",
       "         1.14370363e-002,  4.16978102e-003, -6.58928123e-003,\n",
       "         2.71993623e-002,  7.13865769e-004,  1.22886777e-002,\n",
       "         8.12372207e-003,  3.85263158e-003,  3.80844077e-022,\n",
       "         5.29003534e-059,  9.04550620e-188, -1.11160537e-221,\n",
       "        -9.30211598e-222, -1.44254297e-221, -2.67416997e-221,\n",
       "        -1.05103874e-173, -3.64969517e-072,  6.90324667e-003,\n",
       "        -8.35614663e-003,  1.93211689e-002,  3.56932815e-002,\n",
       "        -1.76648496e-002, -5.15242982e-002, -3.51951231e-002,\n",
       "        -2.10287710e-002, -1.61949195e-002, -9.95827869e-003,\n",
       "        -1.95160938e-003, -1.96022642e-002, -5.42686144e-003,\n",
       "        -1.45705303e-002,  5.18985208e-003,  2.87725053e-002,\n",
       "         1.35490562e-002,  7.92194061e-017,  1.53799386e-150,\n",
       "         6.78294989e-192, -3.34425329e-222,  5.33763450e-222,\n",
       "        -1.30379274e-221, -1.07845461e-221, -1.15480467e-171,\n",
       "         7.12006519e-072,  1.33287868e-010,  8.32101128e-003,\n",
       "         1.82163502e-002,  5.46923395e-004,  3.87199387e-003,\n",
       "        -3.63091380e-003, -1.36662657e-002, -6.51266451e-002,\n",
       "        -3.53239389e-002, -2.11342303e-002, -1.05202974e-002,\n",
       "         1.34065655e-002, -9.39856425e-003, -7.98163784e-003,\n",
       "        -2.47022149e-003,  1.87322904e-002,  8.87293328e-003,\n",
       "         1.02083681e-049,  3.22672468e-151,  1.97630362e-197,\n",
       "         1.89101506e-221, -3.48665131e-223, -1.33495974e-222,\n",
       "         2.57031981e-221, -9.56792546e-214, -2.39233355e-117,\n",
       "        -2.38496570e-011,  2.33378926e-002,  2.19715418e-002,\n",
       "        -1.10382699e-002, -1.18124379e-002, -3.51566369e-002,\n",
       "        -1.00951333e-002, -2.30074442e-002, -1.62995044e-002,\n",
       "        -2.55995464e-002, -3.49443856e-002,  3.48369131e-003,\n",
       "         8.99632240e-003, -4.07483509e-003,  1.37357291e-002,\n",
       "        -1.21968313e-002, -1.37346866e-003,  1.64306709e-002,\n",
       "         1.52764640e-002,  5.65662550e-120,  1.41994362e-221,\n",
       "         5.00164372e-221,  3.39635573e-222,  8.34763560e-186,\n",
       "         5.30886441e-119,  2.57876216e-116,  1.36086769e-017,\n",
       "        -5.61357586e-003,  3.04055829e-002, -3.86759677e-002,\n",
       "        -1.41726323e-002, -3.31164193e-002,  4.00556252e-003,\n",
       "        -2.63013874e-003, -2.44128305e-002, -1.91911976e-002,\n",
       "        -2.37082655e-002, -4.32817372e-003,  6.90063400e-003,\n",
       "         3.28973535e-003, -7.92841525e-003, -2.14901068e-002,\n",
       "        -8.30241304e-003, -1.26093803e-002, -3.55882636e-003,\n",
       "         1.58558826e-003, -2.22164353e-003,  2.33422586e-002,\n",
       "         9.66189088e-003,  1.13995690e-002,  2.86600403e-002,\n",
       "         5.91014320e-003,  2.76818671e-002,  3.05294547e-002,\n",
       "         4.70751181e-002,  2.91446956e-002,  1.34370911e-002,\n",
       "         2.23986214e-002,  7.15331230e-003,  1.48972078e-002,\n",
       "        -5.95617841e-003, -8.23829875e-003,  8.40901841e-003,\n",
       "        -1.36747992e-002, -1.99306658e-002, -1.44358597e-002,\n",
       "         4.27911879e-003, -3.03581590e-002,  1.70462845e-003,\n",
       "        -4.95736998e-003,  2.38268409e-002,  3.48035071e-003,\n",
       "        -2.08402394e-002, -2.07224489e-003,  1.91287406e-002,\n",
       "         9.49816551e-003,  1.39697169e-002,  3.11797359e-003,\n",
       "        -9.87256475e-003,  2.39547739e-003,  5.45438034e-003,\n",
       "        -1.44445695e-002,  1.14382944e-002, -1.41877668e-002,\n",
       "        -2.28169806e-002,  1.13844147e-002, -2.25165028e-002,\n",
       "        -1.78691639e-002, -3.78831019e-003,  5.66668525e-003,\n",
       "        -1.31747602e-002, -2.15966927e-002,  1.75120675e-003,\n",
       "         1.73983793e-003, -7.44959550e-003, -8.26872358e-003,\n",
       "        -5.87685500e-004,  3.77453486e-003, -7.88592748e-003,\n",
       "        -1.08472891e-002,  2.46989715e-003, -1.96772848e-002,\n",
       "        -2.45023529e-002, -1.10123353e-002,  7.83698329e-003,\n",
       "         7.00310097e-004,  9.88660182e-003, -2.40985112e-003,\n",
       "        -2.35646239e-002, -1.00882196e-002,  1.56373455e-002,\n",
       "         9.41996453e-003, -1.98898381e-002, -2.40896635e-003,\n",
       "         1.11186519e-002,  1.25234559e-002,  2.05399030e-003,\n",
       "        -1.21208638e-002,  5.85804872e-003, -1.07574085e-002,\n",
       "        -1.97019123e-004, -5.00987267e-003, -4.15942097e-003,\n",
       "         8.35024093e-003, -3.75979940e-003, -1.93244060e-002,\n",
       "        -1.18445327e-002])}"
      ]
     },
     "execution_count": 388,
     "metadata": {},
     "output_type": "execute_result"
    }
   ],
   "source": [
    "train_batch(0,parameters)"
   ]
  },
  {
   "cell_type": "code",
   "execution_count": 389,
   "metadata": {},
   "outputs": [],
   "source": [
    "import copy\n",
    "def combine_parameters(parameters,grad,learn_rate):\n",
    "    parameter_tmp=copy.deepcopy(parameters)\n",
    "    parameter_tmp[0]['b']-=learn_rate*grad['b0']\n",
    "    parameter_tmp[1]['b']-=learn_rate*grad['b1']\n",
    "    parameter_tmp[1]['w']-=learn_rate*grad['w1']\n",
    "    return parameter_tmp"
   ]
  },
  {
   "cell_type": "code",
   "execution_count": 390,
   "metadata": {},
   "outputs": [
    {
     "data": {
      "text/plain": [
       "[{'b': array([ 1.09128714e-01,  1.40417375e-01,  1.66129956e-03,  5.69346990e-02,\n",
       "          7.91132404e-02, -5.03629910e-02,  9.57344562e-02,  6.01829412e-02,\n",
       "         -1.08861133e-02,  5.96663437e-02, -5.69728140e-02,  1.51097927e-02,\n",
       "         -1.32595544e-03,  8.59097848e-02, -3.46385591e-02,  3.24978281e-02,\n",
       "         -1.00204893e-01,  9.25328100e-02, -1.47885435e-02, -4.77967929e-03,\n",
       "          6.89230558e-02,  2.82696995e-02,  5.79279490e-02,  7.47786141e-02,\n",
       "          6.45396122e-03,  5.41315840e-02, -5.80521923e-03, -2.76872076e-02,\n",
       "          9.33585973e-02, -1.00686813e-02, -6.54023862e-03, -6.92197318e-02,\n",
       "         -4.53509552e-03,  3.03096943e-02,  2.91551267e-02,  9.34206578e-02,\n",
       "          8.75056278e-02, -3.03529991e-02,  1.14912497e-01, -1.80594499e-02,\n",
       "         -9.55168089e-04,  5.57976801e-02,  8.71546040e-02,  6.16015911e-02,\n",
       "          4.02638616e-02,  6.00879301e-02,  1.28967203e-01,  4.99476357e-02,\n",
       "          1.28428207e-03,  1.10564975e-01,  2.16136471e-02, -4.52533646e-02,\n",
       "          6.43544849e-02, -1.31039741e-02, -2.53979220e-02,  9.80354342e-02,\n",
       "          8.00653770e-02,  7.80829767e-02,  4.69852720e-02,  2.14372111e-02,\n",
       "          3.30453544e-02, -1.07129294e-01, -4.87468755e-03,  3.66403926e-02,\n",
       "         -4.50262076e-03,  2.26757384e-02,  4.45299373e-02,  2.60928596e-02,\n",
       "         -3.97863989e-02, -6.91482599e-02,  2.30665228e-02,  6.69515683e-02,\n",
       "          9.23098193e-02, -4.32613960e-02,  1.91452476e-02,  1.71831352e-02,\n",
       "          3.75546391e-04,  3.89488416e-03, -5.42633683e-04,  5.96238759e-02,\n",
       "          7.21612218e-02,  1.31923973e-02,  7.93952439e-02, -1.04912746e-02,\n",
       "         -7.98640266e-02,  9.36394212e-02,  4.64260935e-02,  1.19895406e-01,\n",
       "         -1.92146193e-02,  1.30309578e-02,  3.73524188e-02,  7.26948635e-02,\n",
       "          5.29198873e-02, -4.38967810e-02, -4.77217114e-02, -2.99258515e-02,\n",
       "         -1.60554348e-01, -1.16401846e-01, -2.45837485e-01, -8.00747075e-02,\n",
       "         -2.90726333e-02,  6.63836441e-02, -4.73472959e-02, -3.83228237e-02,\n",
       "         -1.51388496e-02, -1.76219516e-01, -4.14838141e-02,  1.27575637e-01,\n",
       "          1.43330432e-01, -2.47105534e-02,  1.68506697e-02,  3.04888857e-02,\n",
       "         -3.78104427e-02,  5.96086525e-02,  3.11825068e-02,  6.92122583e-02,\n",
       "         -7.96846297e-03, -4.09382059e-02, -7.27969708e-02, -2.20988941e-01,\n",
       "         -9.62419011e-02, -9.53764104e-02, -1.41049074e-01, -1.95202584e-01,\n",
       "         -1.79755386e-01, -1.79118891e-01, -8.57411034e-02, -9.89647061e-02,\n",
       "         -1.90205577e-01, -3.98641087e-02, -7.69362424e-02, -3.12822557e-02,\n",
       "         -1.19522158e-01,  4.84743385e-02,  2.13408506e-02, -2.98826260e-02,\n",
       "          1.01076094e-01,  1.61236610e-02, -1.16705214e-02,  4.43711477e-02,\n",
       "         -1.35177837e-01, -3.69177439e-02, -1.58382078e-02, -3.75578734e-02,\n",
       "          6.24607427e-02, -1.77004368e-01, -8.30598918e-02, -5.76191505e-02,\n",
       "         -1.85724990e-01, -1.39941116e-01, -1.27659841e-01, -2.33078649e-01,\n",
       "         -1.94563022e-01, -2.86308050e-01, -2.36827143e-01, -2.75042978e-01,\n",
       "         -3.93383761e-01, -2.86608419e-01, -1.86644807e-01, -9.84235094e-02,\n",
       "         -2.65302819e-02, -1.48746318e-02,  7.70926226e-02,  5.76930509e-02,\n",
       "          8.56060961e-02,  1.05207427e-01, -2.68645658e-02,  3.29311956e-02,\n",
       "          1.03410783e-01,  2.91060088e-03,  2.69391535e-02, -3.36581977e-03,\n",
       "          1.36772029e-02, -2.53013059e-01, -7.01509301e-02,  3.12385125e-02,\n",
       "         -2.05479986e-02, -1.95744251e-01, -1.83122775e-01, -2.27572545e-01,\n",
       "         -2.28475251e-01, -2.87552034e-01, -4.16801173e-01, -4.75901093e-01,\n",
       "         -2.09164929e-01, -2.47472588e-01, -1.74660171e-01, -1.72296090e-01,\n",
       "         -9.20377461e-02, -1.02700734e-01, -1.78139900e-01, -1.61046878e-01,\n",
       "          3.32368564e-02,  8.77484213e-02,  1.67389472e-02,  8.84867582e-03,\n",
       "          1.80372279e-03,  7.65182049e-02,  7.23406306e-02, -3.36675390e-03,\n",
       "         -1.72682791e-01, -1.59622013e-01, -1.60999691e-01, -2.19857774e-02,\n",
       "         -1.20270658e-01, -1.59506610e-01, -2.06971010e-01, -1.47319431e-01,\n",
       "         -1.57326143e-01, -3.37281983e-01, -2.38827927e-01, -3.23575908e-01,\n",
       "         -3.55742266e-01, -2.01871091e-01, -2.62447042e-01, -1.53048723e-01,\n",
       "         -1.21734976e-01, -1.83919586e-02,  1.64161153e-03,  3.85705816e-02,\n",
       "         -6.29133183e-02,  1.38773015e-01,  2.48117151e-03, -7.17575237e-02,\n",
       "         -4.03938351e-02,  1.25679179e-01,  1.06911780e-01,  9.80378219e-02,\n",
       "         -8.02126314e-02, -9.07867775e-02, -1.20690174e-01, -1.66105289e-01,\n",
       "         -1.02468899e-01, -9.91396351e-02, -1.51735292e-01, -1.20762432e-01,\n",
       "         -2.94687609e-01, -1.76425380e-01, -2.01164388e-01, -2.31281708e-01,\n",
       "         -2.27096607e-01, -9.02068681e-02, -2.65733393e-01, -1.27828020e-01,\n",
       "         -2.26000888e-01, -1.08802683e-01, -6.93609038e-02, -6.38913607e-03,\n",
       "          1.56790122e-02,  2.86006064e-02,  8.88465940e-02,  8.29692674e-02,\n",
       "          1.45656957e-01,  1.14514490e-01,  3.19519354e-02,  2.09581875e-02,\n",
       "         -2.37094884e-01, -2.53919530e-01, -5.13532298e-02, -1.28775755e-01,\n",
       "         -1.06094839e-01, -1.93166453e-01, -1.72240261e-01, -1.85717015e-01,\n",
       "         -2.79025082e-01, -1.50357477e-01, -2.65494816e-01, -4.65787091e-01,\n",
       "         -2.70573946e-01, -3.06737046e-01, -1.37216757e-01, -2.47079720e-01,\n",
       "         -2.34926544e-01, -1.83944911e-01, -1.55195891e-01, -3.83574488e-02,\n",
       "         -1.19908451e-01,  3.01400129e-02,  9.85073312e-02,  7.37335172e-02,\n",
       "          2.34346688e-02,  1.36366880e-01,  1.47487549e-02, -6.74166560e-02,\n",
       "          6.54553711e-02, -7.90378764e-02, -7.75992685e-02, -9.87580272e-02,\n",
       "         -2.03063970e-01, -1.96329235e-01, -1.61648926e-01, -2.39360830e-01,\n",
       "         -1.89204035e-01, -1.72896920e-01, -1.08198014e-01, -2.12701197e-01,\n",
       "         -2.60836983e-01, -4.02442055e-01, -4.09833045e-01, -4.59886531e-01,\n",
       "         -4.03194498e-01, -4.06436047e-01, -1.47318354e-01, -5.12926042e-02,\n",
       "         -1.05537003e-01,  5.69771641e-02,  5.11940875e-02,  6.31229867e-02,\n",
       "          7.85449094e-02, -7.53664364e-02,  7.39528086e-02, -2.94849056e-02,\n",
       "         -2.48870774e-02,  6.35264852e-02, -1.89584019e-01, -1.98500125e-01,\n",
       "         -2.02815463e-01, -2.96886514e-01, -1.77783911e-01, -2.90963296e-01,\n",
       "         -3.05133009e-01, -2.66513529e-01, -2.43656920e-01, -3.57351581e-01,\n",
       "         -2.76365194e-01, -3.34406226e-01, -2.95309524e-01, -3.63001202e-01,\n",
       "         -4.36841906e-01, -4.61178095e-01, -5.03594559e-01, -2.84907436e-01,\n",
       "         -1.37639123e-01,  9.11331831e-02,  1.04339846e-01,  2.80176449e-02,\n",
       "          7.13039662e-02,  6.53354122e-02, -4.55650963e-02,  5.10295856e-02,\n",
       "          2.73742909e-02, -3.72392684e-02, -6.38471220e-02, -2.95081725e-01,\n",
       "         -1.92261204e-01, -2.11555827e-01, -2.23600632e-01, -2.97381350e-01,\n",
       "         -3.85015702e-01, -3.30552306e-01, -2.88060388e-01, -4.34134945e-01,\n",
       "         -2.92460749e-01, -3.23060150e-01, -3.65407102e-01, -3.34266448e-01,\n",
       "         -1.89099096e-01, -3.18783969e-01, -4.72243475e-01, -5.06570756e-01,\n",
       "         -3.28832047e-01,  8.70955065e-02,  8.55013908e-02,  7.54410404e-02,\n",
       "         -9.77303303e-03,  5.22201102e-02, -6.49340847e-03,  8.54181239e-02,\n",
       "         -3.74618072e-02,  2.82651796e-02, -1.63161149e-01, -1.30041582e-01,\n",
       "         -2.15572140e-01, -6.80159696e-02, -3.28334049e-01, -2.53488933e-01,\n",
       "         -5.13985702e-01, -4.30752852e-01, -3.26695863e-01, -3.00726553e-01,\n",
       "         -1.90672251e-01, -4.14852999e-01, -3.92564027e-01, -2.44105899e-01,\n",
       "         -2.88601490e-02, -1.74384118e-01, -2.37853363e-01, -2.03835924e-01,\n",
       "         -1.41870854e-01, -7.17548387e-02,  8.03683536e-02,  6.12283145e-02,\n",
       "          4.36102226e-03,  4.66578132e-02, -1.54821238e-02,  1.09151822e-01,\n",
       "         -5.40487347e-02, -1.67004319e-01, -1.25096439e-01, -1.80837383e-01,\n",
       "         -3.42231951e-02,  2.73962619e-02, -2.71818651e-01, -4.20546156e-01,\n",
       "         -4.44484827e-01, -2.87514001e-01, -3.86857662e-01, -2.62155407e-01,\n",
       "         -2.36878709e-01, -2.43241252e-01, -2.61434871e-01, -6.35045287e-02,\n",
       "         -5.53960115e-02, -5.28227890e-02, -1.97958079e-01, -8.27209218e-02,\n",
       "         -1.38536917e-01,  4.05305052e-02,  3.08784637e-02, -7.98406372e-02,\n",
       "          1.89294892e-02, -1.16944382e-03,  6.57811848e-02,  2.51125542e-02,\n",
       "          5.16613042e-02, -1.24287945e-01, -1.30073347e-01, -7.70727191e-02,\n",
       "         -1.27886238e-01, -1.04519686e-01, -2.11783690e-01, -2.03243822e-01,\n",
       "         -3.44929716e-01, -3.03283025e-01, -2.45830440e-01, -1.04983423e-01,\n",
       "         -3.15433805e-01, -3.95624882e-01, -2.98264630e-01, -3.10160657e-02,\n",
       "         -1.24484766e-01, -7.29807990e-02, -1.52880897e-01, -1.33109999e-01,\n",
       "         -7.71184251e-04,  1.17627848e-03,  6.14912794e-02,  1.18451001e-01,\n",
       "          2.08514154e-02, -4.62219863e-03,  4.15564271e-02, -4.37165624e-02,\n",
       "         -9.74175772e-02, -1.20167338e-01, -1.11219776e-01, -1.92336037e-01,\n",
       "         -1.75083574e-01, -2.26268020e-01, -1.89295667e-01, -4.23760274e-01,\n",
       "         -1.73805463e-01, -4.20281133e-01, -2.80702872e-01, -2.34085806e-01,\n",
       "         -3.62485173e-01, -2.22652384e-01, -1.44256290e-01, -1.63038902e-01,\n",
       "         -1.38176878e-01, -9.48261963e-02, -1.73521280e-01,  6.21656931e-02,\n",
       "          5.07483911e-02,  4.85806548e-03, -3.28097385e-03,  3.96885510e-02,\n",
       "          7.45885259e-02,  7.61785974e-02,  2.18645097e-02, -4.58396089e-02,\n",
       "          2.09073168e-04, -8.05143424e-02, -2.21977350e-02, -2.39536506e-01,\n",
       "         -1.98675869e-01, -3.55543148e-01, -2.44391700e-01, -3.48565576e-01,\n",
       "         -3.27443718e-01, -3.40670116e-01, -2.37625510e-01, -3.25761085e-01,\n",
       "         -1.96796247e-01, -1.73641412e-01, -1.54224112e-01, -1.21417762e-01,\n",
       "         -1.62597862e-01, -1.77220734e-01, -1.17043823e-01,  9.96028269e-02,\n",
       "         -4.76607062e-02, -2.77754717e-02, -3.13717758e-02, -5.11193712e-02,\n",
       "          1.03842304e-02,  1.03701807e-01, -4.01064294e-03,  3.01667093e-03,\n",
       "         -1.00936013e-01, -8.38156435e-02, -1.02349328e-01, -2.27274293e-01,\n",
       "         -2.45095047e-01, -3.06035994e-01, -4.25940014e-01, -3.43269513e-01,\n",
       "         -2.28877550e-01, -4.47072004e-02, -1.83369831e-01, -1.58744223e-01,\n",
       "         -1.40992868e-01, -1.78020735e-01, -1.88272488e-01, -1.20549134e-01,\n",
       "         -5.10264294e-02, -7.59237551e-02, -5.44904529e-02, -2.50324462e-02,\n",
       "          1.23732728e-01,  4.49425575e-02, -3.86904789e-02,  7.77116030e-02,\n",
       "          1.34886118e-01,  3.34308985e-04, -2.88719730e-02,  5.71876884e-02,\n",
       "         -1.04573836e-01, -6.38227428e-02, -8.46431645e-02, -1.21014955e-01,\n",
       "         -4.74815637e-02, -2.26301874e-01, -2.91555481e-01, -2.16327684e-01,\n",
       "         -4.50296876e-02, -2.57518521e-03, -1.69509899e-02, -7.43007356e-02,\n",
       "         -1.91947424e-01, -1.56845742e-02, -2.45728565e-01, -1.24638711e-01,\n",
       "         -1.88212474e-01,  8.37953081e-03, -2.84908143e-02,  5.44366363e-02,\n",
       "          5.36577127e-02, -4.20853878e-02, -7.16926393e-03,  1.63767687e-01,\n",
       "         -6.22183028e-03,  7.85404050e-02, -5.28226172e-02, -1.30412237e-01,\n",
       "         -5.19610877e-02, -1.38507743e-01, -1.45287944e-01, -2.18165211e-01,\n",
       "         -1.47700260e-01, -1.67119867e-01, -2.20614208e-01, -2.75980142e-01,\n",
       "         -8.76843536e-02, -8.92665719e-02, -9.64135954e-02, -2.12502140e-01,\n",
       "         -1.37598464e-01, -2.75518774e-01, -1.03383060e-01, -8.29170673e-02,\n",
       "         -6.17315665e-02, -7.26328824e-03, -1.42574391e-01, -2.99289717e-02,\n",
       "          4.49660821e-02, -2.05019520e-02,  5.31478305e-02,  9.62191356e-02,\n",
       "          7.68712557e-03, -2.64083385e-02,  7.80867567e-02, -5.63574404e-02,\n",
       "          3.54938935e-02, -1.44742702e-01, -4.67400807e-03, -1.57308515e-01,\n",
       "         -1.06585625e-01, -2.04725655e-01, -2.16459976e-01, -4.55003305e-02,\n",
       "         -2.55277772e-01, -2.41229010e-02, -1.13648086e-01, -1.07595186e-01,\n",
       "         -1.70000930e-01, -2.79125971e-01, -5.02245184e-02, -2.29303240e-01,\n",
       "         -2.77909214e-01,  2.55072783e-02,  1.02098666e-01,  1.11244232e-01,\n",
       "          2.50122056e-02,  9.68288180e-02,  2.04617889e-02,  1.54852198e-02,\n",
       "          1.00929942e-01,  1.09010932e-01,  8.56108116e-02,  5.22502980e-02,\n",
       "         -6.06957189e-02, -4.98838076e-02, -1.29706410e-01, -2.61307430e-02,\n",
       "         -1.72960218e-01,  1.82438695e-02, -1.02234696e-01, -5.04273116e-02,\n",
       "         -2.33562630e-01, -2.40849377e-01, -1.99867718e-01, -1.07127273e-01,\n",
       "         -1.11774226e-01, -1.26193949e-01, -1.12351073e-01, -2.21280476e-01,\n",
       "         -1.10333075e-01, -1.25265403e-01,  7.56849144e-02,  1.24939834e-01,\n",
       "          4.73425340e-02,  4.88220453e-02,  2.48538556e-02,  2.01183579e-02,\n",
       "          3.42667218e-02, -4.08919808e-03, -7.14750785e-03, -1.34825252e-02,\n",
       "          1.83123289e-02, -1.23935752e-02, -1.61914148e-01, -7.43797052e-02,\n",
       "         -8.80982791e-02, -6.30830302e-04, -1.66021876e-01, -1.89847535e-01,\n",
       "         -1.86073291e-01, -3.53819066e-01, -3.77337278e-01, -2.93083357e-01,\n",
       "         -6.72434557e-02, -1.15317305e-01, -9.11266671e-02,  1.88325141e-03,\n",
       "         -4.04143324e-02, -9.74179986e-02,  3.74209213e-02,  4.71055014e-02,\n",
       "         -1.37271499e-02, -4.39627494e-02,  1.65866595e-02, -6.99443821e-02,\n",
       "          5.81755641e-02,  9.47439853e-02,  7.09163288e-03, -2.15736035e-02,\n",
       "         -7.54455604e-03,  9.37023156e-03, -1.01528372e-01, -1.25744660e-02,\n",
       "         -9.49119207e-02, -1.22345653e-01, -9.67301844e-02, -9.07202533e-02,\n",
       "         -1.55725581e-01, -2.60708330e-01,  2.11761204e-02, -6.27799790e-02,\n",
       "         -9.73558542e-02, -1.06993500e-01, -1.17503513e-01, -9.27441539e-03,\n",
       "         -7.64462002e-02, -2.43145822e-02, -2.85109602e-02,  1.72848690e-02,\n",
       "         -7.56730167e-03,  4.30789022e-02,  1.02773866e-01,  4.96414757e-02,\n",
       "          1.16894316e-01,  3.66673868e-02, -1.45143368e-03,  6.30759698e-02,\n",
       "         -1.08467457e-01,  1.33108677e-02, -1.20970826e-02, -7.74763545e-02,\n",
       "         -5.79264394e-02, -7.36981407e-02, -1.73914599e-01, -2.17255031e-01,\n",
       "         -7.51319162e-02,  8.32118158e-03, -1.36250672e-01, -1.24601949e-01,\n",
       "         -1.12911337e-01, -1.20733220e-01, -7.48904561e-02, -1.20268144e-01,\n",
       "         -7.44014867e-02,  8.89255547e-02,  6.97814046e-02, -3.25868279e-02,\n",
       "          1.27466122e-01, -2.74836993e-02,  1.34357036e-02, -1.08862358e-01,\n",
       "         -1.26161878e-03,  1.23203458e-01,  1.30427549e-03, -2.44019128e-02,\n",
       "         -7.67866591e-02, -5.57631772e-02, -5.95909764e-03,  7.44582960e-02,\n",
       "         -6.66136682e-02,  2.55827997e-03,  9.11997714e-02, -8.46301959e-02,\n",
       "          5.05245290e-02,  5.03251094e-03, -1.12516274e-01,  2.02197510e-02,\n",
       "         -2.80011155e-02, -1.63486602e-02, -7.23054734e-02, -2.47674837e-02,\n",
       "          2.45258714e-02,  4.24911174e-03,  1.84626371e-02,  5.72249317e-02,\n",
       "          6.08622074e-02,  3.47289755e-02,  2.40384663e-02,  4.17852831e-03,\n",
       "          1.05617625e-01, -5.77359625e-03,  1.41369540e-01,  1.47186208e-01,\n",
       "          9.53078017e-02, -2.11670422e-02, -6.17779062e-03, -2.99114528e-02,\n",
       "          1.03888452e-02,  1.03323654e-01,  5.15514069e-02, -5.46393731e-02,\n",
       "          2.98288299e-02,  1.38450208e-01, -2.65732788e-02, -7.54526249e-02,\n",
       "         -9.14483054e-02,  2.77272160e-02, -2.56869862e-02,  5.73220459e-02,\n",
       "          9.37914261e-02, -2.14806556e-02,  3.56690124e-02,  7.01575369e-02,\n",
       "          3.65723918e-02, -4.11204113e-02,  1.00512837e-01,  3.55908350e-02])},\n",
       " {'b': array([-0.03313848,  0.48756348,  0.06414256, -0.33986272, -0.01383723,\n",
       "          0.84811919,  0.00880269,  0.16751134, -0.71140321, -0.18763871]),\n",
       "  'w': array([[-0.03558669,  0.01969427, -0.05064269, ...,  0.06314283,\n",
       "          -0.00759414,  0.01333947],\n",
       "         [-0.03917884, -0.01763114, -0.05164892, ...,  0.10111317,\n",
       "          -0.09478643, -0.06322615],\n",
       "         [-0.07782694,  0.0012902 , -0.05547764, ..., -0.08257161,\n",
       "           0.04766057, -0.04159818],\n",
       "         ...,\n",
       "         [-0.07602499, -0.05798062,  0.06760438, ..., -0.09087749,\n",
       "           0.06776771,  0.01147154],\n",
       "         [-0.07294457,  0.04558043,  0.08360641, ..., -0.057951  ,\n",
       "          -0.05596814, -0.02946591],\n",
       "         [-0.07179616,  0.06835569, -0.06209992, ..., -0.03352736,\n",
       "           0.0375067 ,  0.03007256]])}]"
      ]
     },
     "execution_count": 390,
     "metadata": {},
     "output_type": "execute_result"
    }
   ],
   "source": [
    "combine_parameters(parameters,train_batch(0,parameters),1)"
   ]
  },
  {
   "cell_type": "code",
   "execution_count": 406,
   "metadata": {},
   "outputs": [],
   "source": [
    "parameters=init_parameters()"
   ]
  },
  {
   "cell_type": "code",
   "execution_count": 407,
   "metadata": {},
   "outputs": [
    {
     "name": "stdout",
     "output_type": "stream",
     "text": [
      "validation accuracy : 0.1072\n"
     ]
    }
   ],
   "source": [
    "valid_accuracy(parameters)"
   ]
  },
  {
   "cell_type": "code",
   "execution_count": 410,
   "metadata": {},
   "outputs": [
    {
     "name": "stdout",
     "output_type": "stream",
     "text": [
      "running batch 100/500\n",
      "running batch 200/500\n",
      "running batch 300/500\n",
      "running batch 400/500\n",
      "running batch 500/500\n"
     ]
    }
   ],
   "source": [
    "learn_rate=1\n",
    "for i in range(train_num//batch_size):\n",
    "    if i%100==99:\n",
    "        print('running batch {}/{}'.format(i+1,train_num//batch_size))\n",
    "    grad_tmp=train_batch(i,parameters)\n",
    "    parameters=combine_parameters(parameters,grad_tmp,learn_rate)"
   ]
  },
  {
   "cell_type": "code",
   "execution_count": 411,
   "metadata": {},
   "outputs": [
    {
     "name": "stdout",
     "output_type": "stream",
     "text": [
      "validation accuracy : 0.9162\n"
     ]
    }
   ],
   "source": [
    "valid_accuracy(parameters)"
   ]
  },
  {
   "cell_type": "code",
   "execution_count": null,
   "metadata": {},
   "outputs": [],
   "source": []
  }
 ],
 "metadata": {
  "kernelspec": {
   "display_name": "Python 3",
   "language": "python",
   "name": "python3"
  },
  "language_info": {
   "codemirror_mode": {
    "name": "ipython",
    "version": 3
   },
   "file_extension": ".py",
   "mimetype": "text/x-python",
   "name": "python",
   "nbconvert_exporter": "python",
   "pygments_lexer": "ipython3",
   "version": "3.6.5"
  }
 },
 "nbformat": 4,
 "nbformat_minor": 2
}
